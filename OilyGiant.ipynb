{
 "cells": [
  {
   "cell_type": "markdown",
   "metadata": {},
   "source": [
    "# Table of Contents"
   ]
  },
  {
   "cell_type": "markdown",
   "metadata": {},
   "source": [
    "[Introduction](#1)\n",
    "\n",
    "[Section 1: Preparing the Data](#2)\n",
    "\n",
    "[Section 2: Training and Testing the Linear Model For Each Region](#3)\n",
    "- [PART A: Splitting the Data Into Training and Validation Sets](#3.1)\n",
    "- [PART B: Training the Model](#3.2)\n",
    "- [PART C: Saving the Predictions and Correct Answers](#3.3)\n",
    "- [PART D: Printing the Average Volume of Predicted Reserves and Model RMSE](#3.4)\n",
    "- [PART E: Analyzing the Results](#3.5)\n",
    "\n",
    "[Section 3: Preparing For Profit Calculations](#4)\n",
    "- [PART A: Storing All Key Values For Calculations (In Separate Variables)](#4.1)\n",
    "- [PART B.1: Calculating the Volume of Reserves Sufficient For Developing a New Well](#4.2)\n",
    "- [PART B.2: Comparing the Obtained Values With the Average Volume of Reserves In Each Region](#4.3)\n",
    "- [PART C: Findings Found During the Preparation For the Profit Calculation](#4.4)\n",
    "\n",
    "[Section 4: Writing a Function For Calculating Profit](#5)\n",
    "- [PART A: Picking the 500 Locations With the Best Predicted Values](#5.1)\n",
    "- [PART B: Summarizing the Target Volume of Reserves](#5.2)\n",
    "- [PART C.1: Suggesting a Region For Oil Wells Development](#5.3)\n",
    "- [PART C.2: Calculating the Profit For the Obtained Volume of Reserves (Based On the Best 200 Locations)](#5.4)\n",
    "\n",
    "[Section 5: Calculating Risks and Profits For Each Region](#6)\n",
    "- [PART A: Using the Bootstrapping Technique (With 1,000 Samples) to Find the Distribution of Profit](#6.1)\n",
    "- [PART B.1: Calculating the Average Profit Using a 95% Confidence Interval](#6.2)\n",
    "- [PART B.2: Also Calculating the Risk of Losses (i.e. Negative Profit)](#6.3)\n",
    "- [PART C: Suggesting a Region for Development of Oil Wells](#6.4)\n",
    "\n",
    "[Conclusion](#7)"
   ]
  },
  {
   "cell_type": "markdown",
   "metadata": {},
   "source": [
    "# Introduction <a id=1></a>"
   ]
  },
  {
   "cell_type": "markdown",
   "metadata": {},
   "source": [
    "I am a data scientist for the **OilyGiant** mining company who is tasked with finding the most profitable location, among three regions, for new wells. \n",
    "\n",
    "To help me find the best location, I will follow the steps below:\n",
    "\n",
    "1) Collect the oil well parameters, oil quality and volume of reserves (in thousands of barrels), in the selected region\n",
    "\n",
    "2) Build a model for predicting the volume of reserves in the new wells\n",
    "\n",
    "3) Pick the oil wells with the highest estimated values\n",
    "\n",
    "4) Pick the region with the highest total profit for the selected oil wells\n",
    "\n",
    "To help me complete those steps, I have data on oil samples from three regions, where the parameters of each oil well are already known. \n",
    "\n",
    "Since this is a regression task (and not classification), a linear regression machine learning model is appropriate to build here. \n",
    "\n",
    "Furthermore, I will use the Bootstrapping technique to not only analyze potential profit, but also to assess risks. In fact, no region with a 2.5% or higher risk of losses should even be considered.\n",
    "\n",
    "When exploring a region, 500 points will be studied, of which the best 200 will be picked for the profit calculation. The budget for developing 200 oil wells is 100 USD million dollars, and the revenue from one unit of product is 4,500 dollars."
   ]
  },
  {
   "cell_type": "markdown",
   "metadata": {},
   "source": [
    "# Section 1: Preparing the Data <a id=2></a>"
   ]
  },
  {
   "cell_type": "markdown",
   "metadata": {},
   "source": [
    "It is good practice to have all the libraries needed for a project be imported at the very beginning."
   ]
  },
  {
   "cell_type": "code",
   "execution_count": 1,
   "metadata": {},
   "outputs": [],
   "source": [
    "from scipy import stats as st\n",
    "from sklearn.linear_model import LinearRegression\n",
    "from sklearn.metrics import mean_squared_error\n",
    "from sklearn.model_selection import train_test_split\n",
    "from sympy import symbols, solve_univariate_inequality\n",
    "import matplotlib.pyplot as plt\n",
    "import numpy as np\n",
    "import pandas as pd\n",
    "import seaborn as sns"
   ]
  },
  {
   "cell_type": "markdown",
   "metadata": {},
   "source": [
    "Each of the three regions have their geological exploration data stored in its own csv file. \n",
    "\n",
    "The names of the columns, and what data each column contains, are as follows:\n",
    "\n",
    "**id** — The unique identifier of an oil well\n",
    "\n",
    "**f0, f1, f2** — Three features of points (their specific meaning is unimportant, but the features themselves are significant)\n",
    "\n",
    "**product** — The volume of reserves in the oil well (in thousands of barrels)."
   ]
  },
  {
   "cell_type": "code",
   "execution_count": 2,
   "metadata": {},
   "outputs": [],
   "source": [
    "geo_data_0 = pd.read_csv('geo_data_0.csv')\n",
    "geo_data_1 = pd.read_csv('geo_data_1.csv')\n",
    "geo_data_2 = pd.read_csv('geo_data_2.csv')"
   ]
  },
  {
   "cell_type": "markdown",
   "metadata": {},
   "source": [
    "It is always a good idea to apply the **info()** function to each dataframe to see if there are any null values, and also to ensure that the Dtypes are appropriate.\n",
    "\n",
    "Personally, I always like to apply the **sample(10)** function to each dataframe as well, so that I get an idea of what the data looks like."
   ]
  },
  {
   "cell_type": "code",
   "execution_count": 3,
   "metadata": {},
   "outputs": [
    {
     "name": "stdout",
     "output_type": "stream",
     "text": [
      "<class 'pandas.core.frame.DataFrame'>\n",
      "RangeIndex: 100000 entries, 0 to 99999\n",
      "Data columns (total 5 columns):\n",
      " #   Column   Non-Null Count   Dtype  \n",
      "---  ------   --------------   -----  \n",
      " 0   id       100000 non-null  object \n",
      " 1   f0       100000 non-null  float64\n",
      " 2   f1       100000 non-null  float64\n",
      " 3   f2       100000 non-null  float64\n",
      " 4   product  100000 non-null  float64\n",
      "dtypes: float64(4), object(1)\n",
      "memory usage: 3.8+ MB\n"
     ]
    }
   ],
   "source": [
    "geo_data_0.info()"
   ]
  },
  {
   "cell_type": "code",
   "execution_count": 4,
   "metadata": {},
   "outputs": [
    {
     "data": {
      "text/html": [
       "<div>\n",
       "<style scoped>\n",
       "    .dataframe tbody tr th:only-of-type {\n",
       "        vertical-align: middle;\n",
       "    }\n",
       "\n",
       "    .dataframe tbody tr th {\n",
       "        vertical-align: top;\n",
       "    }\n",
       "\n",
       "    .dataframe thead th {\n",
       "        text-align: right;\n",
       "    }\n",
       "</style>\n",
       "<table border=\"1\" class=\"dataframe\">\n",
       "  <thead>\n",
       "    <tr style=\"text-align: right;\">\n",
       "      <th></th>\n",
       "      <th>id</th>\n",
       "      <th>f0</th>\n",
       "      <th>f1</th>\n",
       "      <th>f2</th>\n",
       "      <th>product</th>\n",
       "    </tr>\n",
       "  </thead>\n",
       "  <tbody>\n",
       "    <tr>\n",
       "      <th>37327</th>\n",
       "      <td>79RFg</td>\n",
       "      <td>0.092001</td>\n",
       "      <td>-0.247611</td>\n",
       "      <td>9.801970</td>\n",
       "      <td>178.755976</td>\n",
       "    </tr>\n",
       "    <tr>\n",
       "      <th>46334</th>\n",
       "      <td>5ii9a</td>\n",
       "      <td>-0.020903</td>\n",
       "      <td>0.903616</td>\n",
       "      <td>1.086500</td>\n",
       "      <td>73.957649</td>\n",
       "    </tr>\n",
       "    <tr>\n",
       "      <th>28086</th>\n",
       "      <td>RWTZP</td>\n",
       "      <td>1.146803</td>\n",
       "      <td>0.088580</td>\n",
       "      <td>4.304908</td>\n",
       "      <td>130.851895</td>\n",
       "    </tr>\n",
       "    <tr>\n",
       "      <th>44278</th>\n",
       "      <td>jQDWH</td>\n",
       "      <td>0.916034</td>\n",
       "      <td>0.781965</td>\n",
       "      <td>-0.079957</td>\n",
       "      <td>73.229034</td>\n",
       "    </tr>\n",
       "    <tr>\n",
       "      <th>33520</th>\n",
       "      <td>Hy2mj</td>\n",
       "      <td>2.028580</td>\n",
       "      <td>0.426121</td>\n",
       "      <td>3.471059</td>\n",
       "      <td>92.926944</td>\n",
       "    </tr>\n",
       "    <tr>\n",
       "      <th>93071</th>\n",
       "      <td>aL9Z7</td>\n",
       "      <td>-0.944251</td>\n",
       "      <td>0.385020</td>\n",
       "      <td>1.131171</td>\n",
       "      <td>38.619728</td>\n",
       "    </tr>\n",
       "    <tr>\n",
       "      <th>46431</th>\n",
       "      <td>XBjwr</td>\n",
       "      <td>-0.105361</td>\n",
       "      <td>0.899430</td>\n",
       "      <td>2.645754</td>\n",
       "      <td>111.615669</td>\n",
       "    </tr>\n",
       "    <tr>\n",
       "      <th>51314</th>\n",
       "      <td>efEwB</td>\n",
       "      <td>1.086040</td>\n",
       "      <td>-0.279805</td>\n",
       "      <td>4.240068</td>\n",
       "      <td>136.773981</td>\n",
       "    </tr>\n",
       "    <tr>\n",
       "      <th>82896</th>\n",
       "      <td>sPuhf</td>\n",
       "      <td>-0.117647</td>\n",
       "      <td>0.445094</td>\n",
       "      <td>2.642475</td>\n",
       "      <td>50.371602</td>\n",
       "    </tr>\n",
       "    <tr>\n",
       "      <th>99521</th>\n",
       "      <td>pdioJ</td>\n",
       "      <td>1.663170</td>\n",
       "      <td>-0.092155</td>\n",
       "      <td>4.283865</td>\n",
       "      <td>72.095673</td>\n",
       "    </tr>\n",
       "  </tbody>\n",
       "</table>\n",
       "</div>"
      ],
      "text/plain": [
       "          id        f0        f1        f2     product\n",
       "37327  79RFg  0.092001 -0.247611  9.801970  178.755976\n",
       "46334  5ii9a -0.020903  0.903616  1.086500   73.957649\n",
       "28086  RWTZP  1.146803  0.088580  4.304908  130.851895\n",
       "44278  jQDWH  0.916034  0.781965 -0.079957   73.229034\n",
       "33520  Hy2mj  2.028580  0.426121  3.471059   92.926944\n",
       "93071  aL9Z7 -0.944251  0.385020  1.131171   38.619728\n",
       "46431  XBjwr -0.105361  0.899430  2.645754  111.615669\n",
       "51314  efEwB  1.086040 -0.279805  4.240068  136.773981\n",
       "82896  sPuhf -0.117647  0.445094  2.642475   50.371602\n",
       "99521  pdioJ  1.663170 -0.092155  4.283865   72.095673"
      ]
     },
     "metadata": {},
     "output_type": "display_data"
    }
   ],
   "source": [
    "display(geo_data_0.sample(10))"
   ]
  },
  {
   "cell_type": "code",
   "execution_count": 5,
   "metadata": {},
   "outputs": [
    {
     "name": "stdout",
     "output_type": "stream",
     "text": [
      "<class 'pandas.core.frame.DataFrame'>\n",
      "RangeIndex: 100000 entries, 0 to 99999\n",
      "Data columns (total 5 columns):\n",
      " #   Column   Non-Null Count   Dtype  \n",
      "---  ------   --------------   -----  \n",
      " 0   id       100000 non-null  object \n",
      " 1   f0       100000 non-null  float64\n",
      " 2   f1       100000 non-null  float64\n",
      " 3   f2       100000 non-null  float64\n",
      " 4   product  100000 non-null  float64\n",
      "dtypes: float64(4), object(1)\n",
      "memory usage: 3.8+ MB\n"
     ]
    }
   ],
   "source": [
    "geo_data_1.info()"
   ]
  },
  {
   "cell_type": "code",
   "execution_count": 6,
   "metadata": {},
   "outputs": [
    {
     "data": {
      "text/html": [
       "<div>\n",
       "<style scoped>\n",
       "    .dataframe tbody tr th:only-of-type {\n",
       "        vertical-align: middle;\n",
       "    }\n",
       "\n",
       "    .dataframe tbody tr th {\n",
       "        vertical-align: top;\n",
       "    }\n",
       "\n",
       "    .dataframe thead th {\n",
       "        text-align: right;\n",
       "    }\n",
       "</style>\n",
       "<table border=\"1\" class=\"dataframe\">\n",
       "  <thead>\n",
       "    <tr style=\"text-align: right;\">\n",
       "      <th></th>\n",
       "      <th>id</th>\n",
       "      <th>f0</th>\n",
       "      <th>f1</th>\n",
       "      <th>f2</th>\n",
       "      <th>product</th>\n",
       "    </tr>\n",
       "  </thead>\n",
       "  <tbody>\n",
       "    <tr>\n",
       "      <th>97678</th>\n",
       "      <td>s2EUv</td>\n",
       "      <td>9.076493</td>\n",
       "      <td>-0.991985</td>\n",
       "      <td>4.011131</td>\n",
       "      <td>107.813044</td>\n",
       "    </tr>\n",
       "    <tr>\n",
       "      <th>29404</th>\n",
       "      <td>Ny6O2</td>\n",
       "      <td>13.514021</td>\n",
       "      <td>-6.981982</td>\n",
       "      <td>0.007154</td>\n",
       "      <td>0.000000</td>\n",
       "    </tr>\n",
       "    <tr>\n",
       "      <th>81584</th>\n",
       "      <td>0D7LZ</td>\n",
       "      <td>19.670248</td>\n",
       "      <td>3.154501</td>\n",
       "      <td>1.001259</td>\n",
       "      <td>26.953261</td>\n",
       "    </tr>\n",
       "    <tr>\n",
       "      <th>34597</th>\n",
       "      <td>W2VWN</td>\n",
       "      <td>1.576573</td>\n",
       "      <td>-6.319410</td>\n",
       "      <td>0.001849</td>\n",
       "      <td>0.000000</td>\n",
       "    </tr>\n",
       "    <tr>\n",
       "      <th>80403</th>\n",
       "      <td>l4T4C</td>\n",
       "      <td>-12.490914</td>\n",
       "      <td>-2.950544</td>\n",
       "      <td>1.001885</td>\n",
       "      <td>30.132364</td>\n",
       "    </tr>\n",
       "    <tr>\n",
       "      <th>95629</th>\n",
       "      <td>M4ZHc</td>\n",
       "      <td>-16.243547</td>\n",
       "      <td>-6.119213</td>\n",
       "      <td>5.009827</td>\n",
       "      <td>137.945408</td>\n",
       "    </tr>\n",
       "    <tr>\n",
       "      <th>75886</th>\n",
       "      <td>sDg39</td>\n",
       "      <td>9.252288</td>\n",
       "      <td>-7.243594</td>\n",
       "      <td>3.005104</td>\n",
       "      <td>80.859783</td>\n",
       "    </tr>\n",
       "    <tr>\n",
       "      <th>38577</th>\n",
       "      <td>44NZJ</td>\n",
       "      <td>3.466574</td>\n",
       "      <td>-10.008024</td>\n",
       "      <td>4.000548</td>\n",
       "      <td>107.813044</td>\n",
       "    </tr>\n",
       "    <tr>\n",
       "      <th>90254</th>\n",
       "      <td>bEkZW</td>\n",
       "      <td>-4.741177</td>\n",
       "      <td>-8.268871</td>\n",
       "      <td>-0.006882</td>\n",
       "      <td>3.179103</td>\n",
       "    </tr>\n",
       "    <tr>\n",
       "      <th>17479</th>\n",
       "      <td>Rms9Y</td>\n",
       "      <td>-10.121801</td>\n",
       "      <td>-5.788455</td>\n",
       "      <td>3.001108</td>\n",
       "      <td>84.038886</td>\n",
       "    </tr>\n",
       "  </tbody>\n",
       "</table>\n",
       "</div>"
      ],
      "text/plain": [
       "          id         f0         f1        f2     product\n",
       "97678  s2EUv   9.076493  -0.991985  4.011131  107.813044\n",
       "29404  Ny6O2  13.514021  -6.981982  0.007154    0.000000\n",
       "81584  0D7LZ  19.670248   3.154501  1.001259   26.953261\n",
       "34597  W2VWN   1.576573  -6.319410  0.001849    0.000000\n",
       "80403  l4T4C -12.490914  -2.950544  1.001885   30.132364\n",
       "95629  M4ZHc -16.243547  -6.119213  5.009827  137.945408\n",
       "75886  sDg39   9.252288  -7.243594  3.005104   80.859783\n",
       "38577  44NZJ   3.466574 -10.008024  4.000548  107.813044\n",
       "90254  bEkZW  -4.741177  -8.268871 -0.006882    3.179103\n",
       "17479  Rms9Y -10.121801  -5.788455  3.001108   84.038886"
      ]
     },
     "metadata": {},
     "output_type": "display_data"
    }
   ],
   "source": [
    "display(geo_data_1.sample(10))"
   ]
  },
  {
   "cell_type": "code",
   "execution_count": 7,
   "metadata": {},
   "outputs": [
    {
     "name": "stdout",
     "output_type": "stream",
     "text": [
      "<class 'pandas.core.frame.DataFrame'>\n",
      "RangeIndex: 100000 entries, 0 to 99999\n",
      "Data columns (total 5 columns):\n",
      " #   Column   Non-Null Count   Dtype  \n",
      "---  ------   --------------   -----  \n",
      " 0   id       100000 non-null  object \n",
      " 1   f0       100000 non-null  float64\n",
      " 2   f1       100000 non-null  float64\n",
      " 3   f2       100000 non-null  float64\n",
      " 4   product  100000 non-null  float64\n",
      "dtypes: float64(4), object(1)\n",
      "memory usage: 3.8+ MB\n"
     ]
    }
   ],
   "source": [
    "geo_data_2.info()"
   ]
  },
  {
   "cell_type": "code",
   "execution_count": 8,
   "metadata": {},
   "outputs": [
    {
     "data": {
      "text/html": [
       "<div>\n",
       "<style scoped>\n",
       "    .dataframe tbody tr th:only-of-type {\n",
       "        vertical-align: middle;\n",
       "    }\n",
       "\n",
       "    .dataframe tbody tr th {\n",
       "        vertical-align: top;\n",
       "    }\n",
       "\n",
       "    .dataframe thead th {\n",
       "        text-align: right;\n",
       "    }\n",
       "</style>\n",
       "<table border=\"1\" class=\"dataframe\">\n",
       "  <thead>\n",
       "    <tr style=\"text-align: right;\">\n",
       "      <th></th>\n",
       "      <th>id</th>\n",
       "      <th>f0</th>\n",
       "      <th>f1</th>\n",
       "      <th>f2</th>\n",
       "      <th>product</th>\n",
       "    </tr>\n",
       "  </thead>\n",
       "  <tbody>\n",
       "    <tr>\n",
       "      <th>94169</th>\n",
       "      <td>m7BTF</td>\n",
       "      <td>-0.582695</td>\n",
       "      <td>-0.918485</td>\n",
       "      <td>8.560383</td>\n",
       "      <td>143.868408</td>\n",
       "    </tr>\n",
       "    <tr>\n",
       "      <th>66304</th>\n",
       "      <td>tau3V</td>\n",
       "      <td>-2.221197</td>\n",
       "      <td>1.602754</td>\n",
       "      <td>1.498328</td>\n",
       "      <td>113.000627</td>\n",
       "    </tr>\n",
       "    <tr>\n",
       "      <th>5741</th>\n",
       "      <td>8dPNf</td>\n",
       "      <td>-1.252540</td>\n",
       "      <td>0.703374</td>\n",
       "      <td>4.851259</td>\n",
       "      <td>25.619409</td>\n",
       "    </tr>\n",
       "    <tr>\n",
       "      <th>29189</th>\n",
       "      <td>UsSMM</td>\n",
       "      <td>-2.120403</td>\n",
       "      <td>1.131971</td>\n",
       "      <td>2.605964</td>\n",
       "      <td>115.371631</td>\n",
       "    </tr>\n",
       "    <tr>\n",
       "      <th>28048</th>\n",
       "      <td>9EMl6</td>\n",
       "      <td>-2.057686</td>\n",
       "      <td>-3.241810</td>\n",
       "      <td>-2.701796</td>\n",
       "      <td>89.458467</td>\n",
       "    </tr>\n",
       "    <tr>\n",
       "      <th>93057</th>\n",
       "      <td>6GTtf</td>\n",
       "      <td>1.052478</td>\n",
       "      <td>-0.847452</td>\n",
       "      <td>-0.540606</td>\n",
       "      <td>151.341000</td>\n",
       "    </tr>\n",
       "    <tr>\n",
       "      <th>22077</th>\n",
       "      <td>9Mi5v</td>\n",
       "      <td>-1.986617</td>\n",
       "      <td>1.284666</td>\n",
       "      <td>3.764837</td>\n",
       "      <td>101.886789</td>\n",
       "    </tr>\n",
       "    <tr>\n",
       "      <th>32811</th>\n",
       "      <td>EgjCk</td>\n",
       "      <td>1.110904</td>\n",
       "      <td>-1.425760</td>\n",
       "      <td>3.443274</td>\n",
       "      <td>85.064018</td>\n",
       "    </tr>\n",
       "    <tr>\n",
       "      <th>22333</th>\n",
       "      <td>QQysh</td>\n",
       "      <td>0.469354</td>\n",
       "      <td>-1.162353</td>\n",
       "      <td>-0.787256</td>\n",
       "      <td>85.195287</td>\n",
       "    </tr>\n",
       "    <tr>\n",
       "      <th>4290</th>\n",
       "      <td>PZFeg</td>\n",
       "      <td>0.789726</td>\n",
       "      <td>-0.246454</td>\n",
       "      <td>-3.692025</td>\n",
       "      <td>89.061758</td>\n",
       "    </tr>\n",
       "  </tbody>\n",
       "</table>\n",
       "</div>"
      ],
      "text/plain": [
       "          id        f0        f1        f2     product\n",
       "94169  m7BTF -0.582695 -0.918485  8.560383  143.868408\n",
       "66304  tau3V -2.221197  1.602754  1.498328  113.000627\n",
       "5741   8dPNf -1.252540  0.703374  4.851259   25.619409\n",
       "29189  UsSMM -2.120403  1.131971  2.605964  115.371631\n",
       "28048  9EMl6 -2.057686 -3.241810 -2.701796   89.458467\n",
       "93057  6GTtf  1.052478 -0.847452 -0.540606  151.341000\n",
       "22077  9Mi5v -1.986617  1.284666  3.764837  101.886789\n",
       "32811  EgjCk  1.110904 -1.425760  3.443274   85.064018\n",
       "22333  QQysh  0.469354 -1.162353 -0.787256   85.195287\n",
       "4290   PZFeg  0.789726 -0.246454 -3.692025   89.061758"
      ]
     },
     "metadata": {},
     "output_type": "display_data"
    }
   ],
   "source": [
    "display(geo_data_2.sample(10))"
   ]
  },
  {
   "cell_type": "markdown",
   "metadata": {},
   "source": [
    "Everything looks good! There are no null values, and all of the Dtypes make sense."
   ]
  },
  {
   "cell_type": "markdown",
   "metadata": {},
   "source": [
    "# Section 2: Training and Testing the Linear Model For Each Region <a id=3></a>"
   ]
  },
  {
   "cell_type": "markdown",
   "metadata": {},
   "source": [
    "**<u>PART A</u>: Splitting the Data Into Training and Validation Sets** <a id=3.1></a>"
   ]
  },
  {
   "cell_type": "markdown",
   "metadata": {},
   "source": [
    "When splitting data into a training set and a validation set, it is good practice for the training set to receive 75% of the data, and consequently the validation set receives the remaining 25%. Notice that I am not including the **id** column in the features dataframes. This is because each **id** value is unique, and therefore including them would run the risk of the model being overfitted."
   ]
  },
  {
   "cell_type": "code",
   "execution_count": 9,
   "metadata": {},
   "outputs": [],
   "source": [
    "features_geo_0 = geo_data_0.drop(['id', 'product'], axis = 1)\n",
    "target_geo_0 = geo_data_0['product']\n",
    "\n",
    "features_geo_0_train, features_geo_0_valid, target_geo_0_train, target_geo_0_valid = train_test_split(\n",
    "    features_geo_0, target_geo_0, test_size = 0.25, random_state = 12345)"
   ]
  },
  {
   "cell_type": "code",
   "execution_count": 10,
   "metadata": {},
   "outputs": [],
   "source": [
    "features_geo_1 = geo_data_1.drop(['id', 'product'], axis = 1)\n",
    "target_geo_1 = geo_data_1['product']\n",
    "\n",
    "features_geo_1_train, features_geo_1_valid, target_geo_1_train, target_geo_1_valid = train_test_split(\n",
    "    features_geo_1, target_geo_1, test_size = 0.25, random_state = 12345)"
   ]
  },
  {
   "cell_type": "code",
   "execution_count": 11,
   "metadata": {},
   "outputs": [],
   "source": [
    "features_geo_2 = geo_data_2.drop(['id', 'product'], axis = 1)\n",
    "target_geo_2 = geo_data_2['product']\n",
    "\n",
    "features_geo_2_train, features_geo_2_valid, target_geo_2_train, target_geo_2_valid = train_test_split(\n",
    "    features_geo_2, target_geo_2, test_size = 0.25, random_state = 12345)"
   ]
  },
  {
   "cell_type": "markdown",
   "metadata": {},
   "source": [
    "**<u>PART B</u>: Training the Model** <a id=3.2></a>"
   ]
  },
  {
   "cell_type": "markdown",
   "metadata": {},
   "source": [
    "As mentioned in the Introduction, a linear regression machine learning model is suitable for this project."
   ]
  },
  {
   "cell_type": "code",
   "execution_count": 12,
   "metadata": {},
   "outputs": [
    {
     "data": {
      "text/html": [
       "<style>#sk-container-id-1 {\n",
       "  /* Definition of color scheme common for light and dark mode */\n",
       "  --sklearn-color-text: black;\n",
       "  --sklearn-color-line: gray;\n",
       "  /* Definition of color scheme for unfitted estimators */\n",
       "  --sklearn-color-unfitted-level-0: #fff5e6;\n",
       "  --sklearn-color-unfitted-level-1: #f6e4d2;\n",
       "  --sklearn-color-unfitted-level-2: #ffe0b3;\n",
       "  --sklearn-color-unfitted-level-3: chocolate;\n",
       "  /* Definition of color scheme for fitted estimators */\n",
       "  --sklearn-color-fitted-level-0: #f0f8ff;\n",
       "  --sklearn-color-fitted-level-1: #d4ebff;\n",
       "  --sklearn-color-fitted-level-2: #b3dbfd;\n",
       "  --sklearn-color-fitted-level-3: cornflowerblue;\n",
       "\n",
       "  /* Specific color for light theme */\n",
       "  --sklearn-color-text-on-default-background: var(--sg-text-color, var(--theme-code-foreground, var(--jp-content-font-color1, black)));\n",
       "  --sklearn-color-background: var(--sg-background-color, var(--theme-background, var(--jp-layout-color0, white)));\n",
       "  --sklearn-color-border-box: var(--sg-text-color, var(--theme-code-foreground, var(--jp-content-font-color1, black)));\n",
       "  --sklearn-color-icon: #696969;\n",
       "\n",
       "  @media (prefers-color-scheme: dark) {\n",
       "    /* Redefinition of color scheme for dark theme */\n",
       "    --sklearn-color-text-on-default-background: var(--sg-text-color, var(--theme-code-foreground, var(--jp-content-font-color1, white)));\n",
       "    --sklearn-color-background: var(--sg-background-color, var(--theme-background, var(--jp-layout-color0, #111)));\n",
       "    --sklearn-color-border-box: var(--sg-text-color, var(--theme-code-foreground, var(--jp-content-font-color1, white)));\n",
       "    --sklearn-color-icon: #878787;\n",
       "  }\n",
       "}\n",
       "\n",
       "#sk-container-id-1 {\n",
       "  color: var(--sklearn-color-text);\n",
       "}\n",
       "\n",
       "#sk-container-id-1 pre {\n",
       "  padding: 0;\n",
       "}\n",
       "\n",
       "#sk-container-id-1 input.sk-hidden--visually {\n",
       "  border: 0;\n",
       "  clip: rect(1px 1px 1px 1px);\n",
       "  clip: rect(1px, 1px, 1px, 1px);\n",
       "  height: 1px;\n",
       "  margin: -1px;\n",
       "  overflow: hidden;\n",
       "  padding: 0;\n",
       "  position: absolute;\n",
       "  width: 1px;\n",
       "}\n",
       "\n",
       "#sk-container-id-1 div.sk-dashed-wrapped {\n",
       "  border: 1px dashed var(--sklearn-color-line);\n",
       "  margin: 0 0.4em 0.5em 0.4em;\n",
       "  box-sizing: border-box;\n",
       "  padding-bottom: 0.4em;\n",
       "  background-color: var(--sklearn-color-background);\n",
       "}\n",
       "\n",
       "#sk-container-id-1 div.sk-container {\n",
       "  /* jupyter's `normalize.less` sets `[hidden] { display: none; }`\n",
       "     but bootstrap.min.css set `[hidden] { display: none !important; }`\n",
       "     so we also need the `!important` here to be able to override the\n",
       "     default hidden behavior on the sphinx rendered scikit-learn.org.\n",
       "     See: https://github.com/scikit-learn/scikit-learn/issues/21755 */\n",
       "  display: inline-block !important;\n",
       "  position: relative;\n",
       "}\n",
       "\n",
       "#sk-container-id-1 div.sk-text-repr-fallback {\n",
       "  display: none;\n",
       "}\n",
       "\n",
       "div.sk-parallel-item,\n",
       "div.sk-serial,\n",
       "div.sk-item {\n",
       "  /* draw centered vertical line to link estimators */\n",
       "  background-image: linear-gradient(var(--sklearn-color-text-on-default-background), var(--sklearn-color-text-on-default-background));\n",
       "  background-size: 2px 100%;\n",
       "  background-repeat: no-repeat;\n",
       "  background-position: center center;\n",
       "}\n",
       "\n",
       "/* Parallel-specific style estimator block */\n",
       "\n",
       "#sk-container-id-1 div.sk-parallel-item::after {\n",
       "  content: \"\";\n",
       "  width: 100%;\n",
       "  border-bottom: 2px solid var(--sklearn-color-text-on-default-background);\n",
       "  flex-grow: 1;\n",
       "}\n",
       "\n",
       "#sk-container-id-1 div.sk-parallel {\n",
       "  display: flex;\n",
       "  align-items: stretch;\n",
       "  justify-content: center;\n",
       "  background-color: var(--sklearn-color-background);\n",
       "  position: relative;\n",
       "}\n",
       "\n",
       "#sk-container-id-1 div.sk-parallel-item {\n",
       "  display: flex;\n",
       "  flex-direction: column;\n",
       "}\n",
       "\n",
       "#sk-container-id-1 div.sk-parallel-item:first-child::after {\n",
       "  align-self: flex-end;\n",
       "  width: 50%;\n",
       "}\n",
       "\n",
       "#sk-container-id-1 div.sk-parallel-item:last-child::after {\n",
       "  align-self: flex-start;\n",
       "  width: 50%;\n",
       "}\n",
       "\n",
       "#sk-container-id-1 div.sk-parallel-item:only-child::after {\n",
       "  width: 0;\n",
       "}\n",
       "\n",
       "/* Serial-specific style estimator block */\n",
       "\n",
       "#sk-container-id-1 div.sk-serial {\n",
       "  display: flex;\n",
       "  flex-direction: column;\n",
       "  align-items: center;\n",
       "  background-color: var(--sklearn-color-background);\n",
       "  padding-right: 1em;\n",
       "  padding-left: 1em;\n",
       "}\n",
       "\n",
       "\n",
       "/* Toggleable style: style used for estimator/Pipeline/ColumnTransformer box that is\n",
       "clickable and can be expanded/collapsed.\n",
       "- Pipeline and ColumnTransformer use this feature and define the default style\n",
       "- Estimators will overwrite some part of the style using the `sk-estimator` class\n",
       "*/\n",
       "\n",
       "/* Pipeline and ColumnTransformer style (default) */\n",
       "\n",
       "#sk-container-id-1 div.sk-toggleable {\n",
       "  /* Default theme specific background. It is overwritten whether we have a\n",
       "  specific estimator or a Pipeline/ColumnTransformer */\n",
       "  background-color: var(--sklearn-color-background);\n",
       "}\n",
       "\n",
       "/* Toggleable label */\n",
       "#sk-container-id-1 label.sk-toggleable__label {\n",
       "  cursor: pointer;\n",
       "  display: block;\n",
       "  width: 100%;\n",
       "  margin-bottom: 0;\n",
       "  padding: 0.5em;\n",
       "  box-sizing: border-box;\n",
       "  text-align: center;\n",
       "}\n",
       "\n",
       "#sk-container-id-1 label.sk-toggleable__label-arrow:before {\n",
       "  /* Arrow on the left of the label */\n",
       "  content: \"▸\";\n",
       "  float: left;\n",
       "  margin-right: 0.25em;\n",
       "  color: var(--sklearn-color-icon);\n",
       "}\n",
       "\n",
       "#sk-container-id-1 label.sk-toggleable__label-arrow:hover:before {\n",
       "  color: var(--sklearn-color-text);\n",
       "}\n",
       "\n",
       "/* Toggleable content - dropdown */\n",
       "\n",
       "#sk-container-id-1 div.sk-toggleable__content {\n",
       "  max-height: 0;\n",
       "  max-width: 0;\n",
       "  overflow: hidden;\n",
       "  text-align: left;\n",
       "  /* unfitted */\n",
       "  background-color: var(--sklearn-color-unfitted-level-0);\n",
       "}\n",
       "\n",
       "#sk-container-id-1 div.sk-toggleable__content.fitted {\n",
       "  /* fitted */\n",
       "  background-color: var(--sklearn-color-fitted-level-0);\n",
       "}\n",
       "\n",
       "#sk-container-id-1 div.sk-toggleable__content pre {\n",
       "  margin: 0.2em;\n",
       "  border-radius: 0.25em;\n",
       "  color: var(--sklearn-color-text);\n",
       "  /* unfitted */\n",
       "  background-color: var(--sklearn-color-unfitted-level-0);\n",
       "}\n",
       "\n",
       "#sk-container-id-1 div.sk-toggleable__content.fitted pre {\n",
       "  /* unfitted */\n",
       "  background-color: var(--sklearn-color-fitted-level-0);\n",
       "}\n",
       "\n",
       "#sk-container-id-1 input.sk-toggleable__control:checked~div.sk-toggleable__content {\n",
       "  /* Expand drop-down */\n",
       "  max-height: 200px;\n",
       "  max-width: 100%;\n",
       "  overflow: auto;\n",
       "}\n",
       "\n",
       "#sk-container-id-1 input.sk-toggleable__control:checked~label.sk-toggleable__label-arrow:before {\n",
       "  content: \"▾\";\n",
       "}\n",
       "\n",
       "/* Pipeline/ColumnTransformer-specific style */\n",
       "\n",
       "#sk-container-id-1 div.sk-label input.sk-toggleable__control:checked~label.sk-toggleable__label {\n",
       "  color: var(--sklearn-color-text);\n",
       "  background-color: var(--sklearn-color-unfitted-level-2);\n",
       "}\n",
       "\n",
       "#sk-container-id-1 div.sk-label.fitted input.sk-toggleable__control:checked~label.sk-toggleable__label {\n",
       "  background-color: var(--sklearn-color-fitted-level-2);\n",
       "}\n",
       "\n",
       "/* Estimator-specific style */\n",
       "\n",
       "/* Colorize estimator box */\n",
       "#sk-container-id-1 div.sk-estimator input.sk-toggleable__control:checked~label.sk-toggleable__label {\n",
       "  /* unfitted */\n",
       "  background-color: var(--sklearn-color-unfitted-level-2);\n",
       "}\n",
       "\n",
       "#sk-container-id-1 div.sk-estimator.fitted input.sk-toggleable__control:checked~label.sk-toggleable__label {\n",
       "  /* fitted */\n",
       "  background-color: var(--sklearn-color-fitted-level-2);\n",
       "}\n",
       "\n",
       "#sk-container-id-1 div.sk-label label.sk-toggleable__label,\n",
       "#sk-container-id-1 div.sk-label label {\n",
       "  /* The background is the default theme color */\n",
       "  color: var(--sklearn-color-text-on-default-background);\n",
       "}\n",
       "\n",
       "/* On hover, darken the color of the background */\n",
       "#sk-container-id-1 div.sk-label:hover label.sk-toggleable__label {\n",
       "  color: var(--sklearn-color-text);\n",
       "  background-color: var(--sklearn-color-unfitted-level-2);\n",
       "}\n",
       "\n",
       "/* Label box, darken color on hover, fitted */\n",
       "#sk-container-id-1 div.sk-label.fitted:hover label.sk-toggleable__label.fitted {\n",
       "  color: var(--sklearn-color-text);\n",
       "  background-color: var(--sklearn-color-fitted-level-2);\n",
       "}\n",
       "\n",
       "/* Estimator label */\n",
       "\n",
       "#sk-container-id-1 div.sk-label label {\n",
       "  font-family: monospace;\n",
       "  font-weight: bold;\n",
       "  display: inline-block;\n",
       "  line-height: 1.2em;\n",
       "}\n",
       "\n",
       "#sk-container-id-1 div.sk-label-container {\n",
       "  text-align: center;\n",
       "}\n",
       "\n",
       "/* Estimator-specific */\n",
       "#sk-container-id-1 div.sk-estimator {\n",
       "  font-family: monospace;\n",
       "  border: 1px dotted var(--sklearn-color-border-box);\n",
       "  border-radius: 0.25em;\n",
       "  box-sizing: border-box;\n",
       "  margin-bottom: 0.5em;\n",
       "  /* unfitted */\n",
       "  background-color: var(--sklearn-color-unfitted-level-0);\n",
       "}\n",
       "\n",
       "#sk-container-id-1 div.sk-estimator.fitted {\n",
       "  /* fitted */\n",
       "  background-color: var(--sklearn-color-fitted-level-0);\n",
       "}\n",
       "\n",
       "/* on hover */\n",
       "#sk-container-id-1 div.sk-estimator:hover {\n",
       "  /* unfitted */\n",
       "  background-color: var(--sklearn-color-unfitted-level-2);\n",
       "}\n",
       "\n",
       "#sk-container-id-1 div.sk-estimator.fitted:hover {\n",
       "  /* fitted */\n",
       "  background-color: var(--sklearn-color-fitted-level-2);\n",
       "}\n",
       "\n",
       "/* Specification for estimator info (e.g. \"i\" and \"?\") */\n",
       "\n",
       "/* Common style for \"i\" and \"?\" */\n",
       "\n",
       ".sk-estimator-doc-link,\n",
       "a:link.sk-estimator-doc-link,\n",
       "a:visited.sk-estimator-doc-link {\n",
       "  float: right;\n",
       "  font-size: smaller;\n",
       "  line-height: 1em;\n",
       "  font-family: monospace;\n",
       "  background-color: var(--sklearn-color-background);\n",
       "  border-radius: 1em;\n",
       "  height: 1em;\n",
       "  width: 1em;\n",
       "  text-decoration: none !important;\n",
       "  margin-left: 1ex;\n",
       "  /* unfitted */\n",
       "  border: var(--sklearn-color-unfitted-level-1) 1pt solid;\n",
       "  color: var(--sklearn-color-unfitted-level-1);\n",
       "}\n",
       "\n",
       ".sk-estimator-doc-link.fitted,\n",
       "a:link.sk-estimator-doc-link.fitted,\n",
       "a:visited.sk-estimator-doc-link.fitted {\n",
       "  /* fitted */\n",
       "  border: var(--sklearn-color-fitted-level-1) 1pt solid;\n",
       "  color: var(--sklearn-color-fitted-level-1);\n",
       "}\n",
       "\n",
       "/* On hover */\n",
       "div.sk-estimator:hover .sk-estimator-doc-link:hover,\n",
       ".sk-estimator-doc-link:hover,\n",
       "div.sk-label-container:hover .sk-estimator-doc-link:hover,\n",
       ".sk-estimator-doc-link:hover {\n",
       "  /* unfitted */\n",
       "  background-color: var(--sklearn-color-unfitted-level-3);\n",
       "  color: var(--sklearn-color-background);\n",
       "  text-decoration: none;\n",
       "}\n",
       "\n",
       "div.sk-estimator.fitted:hover .sk-estimator-doc-link.fitted:hover,\n",
       ".sk-estimator-doc-link.fitted:hover,\n",
       "div.sk-label-container:hover .sk-estimator-doc-link.fitted:hover,\n",
       ".sk-estimator-doc-link.fitted:hover {\n",
       "  /* fitted */\n",
       "  background-color: var(--sklearn-color-fitted-level-3);\n",
       "  color: var(--sklearn-color-background);\n",
       "  text-decoration: none;\n",
       "}\n",
       "\n",
       "/* Span, style for the box shown on hovering the info icon */\n",
       ".sk-estimator-doc-link span {\n",
       "  display: none;\n",
       "  z-index: 9999;\n",
       "  position: relative;\n",
       "  font-weight: normal;\n",
       "  right: .2ex;\n",
       "  padding: .5ex;\n",
       "  margin: .5ex;\n",
       "  width: min-content;\n",
       "  min-width: 20ex;\n",
       "  max-width: 50ex;\n",
       "  color: var(--sklearn-color-text);\n",
       "  box-shadow: 2pt 2pt 4pt #999;\n",
       "  /* unfitted */\n",
       "  background: var(--sklearn-color-unfitted-level-0);\n",
       "  border: .5pt solid var(--sklearn-color-unfitted-level-3);\n",
       "}\n",
       "\n",
       ".sk-estimator-doc-link.fitted span {\n",
       "  /* fitted */\n",
       "  background: var(--sklearn-color-fitted-level-0);\n",
       "  border: var(--sklearn-color-fitted-level-3);\n",
       "}\n",
       "\n",
       ".sk-estimator-doc-link:hover span {\n",
       "  display: block;\n",
       "}\n",
       "\n",
       "/* \"?\"-specific style due to the `<a>` HTML tag */\n",
       "\n",
       "#sk-container-id-1 a.estimator_doc_link {\n",
       "  float: right;\n",
       "  font-size: 1rem;\n",
       "  line-height: 1em;\n",
       "  font-family: monospace;\n",
       "  background-color: var(--sklearn-color-background);\n",
       "  border-radius: 1rem;\n",
       "  height: 1rem;\n",
       "  width: 1rem;\n",
       "  text-decoration: none;\n",
       "  /* unfitted */\n",
       "  color: var(--sklearn-color-unfitted-level-1);\n",
       "  border: var(--sklearn-color-unfitted-level-1) 1pt solid;\n",
       "}\n",
       "\n",
       "#sk-container-id-1 a.estimator_doc_link.fitted {\n",
       "  /* fitted */\n",
       "  border: var(--sklearn-color-fitted-level-1) 1pt solid;\n",
       "  color: var(--sklearn-color-fitted-level-1);\n",
       "}\n",
       "\n",
       "/* On hover */\n",
       "#sk-container-id-1 a.estimator_doc_link:hover {\n",
       "  /* unfitted */\n",
       "  background-color: var(--sklearn-color-unfitted-level-3);\n",
       "  color: var(--sklearn-color-background);\n",
       "  text-decoration: none;\n",
       "}\n",
       "\n",
       "#sk-container-id-1 a.estimator_doc_link.fitted:hover {\n",
       "  /* fitted */\n",
       "  background-color: var(--sklearn-color-fitted-level-3);\n",
       "}\n",
       "</style><div id=\"sk-container-id-1\" class=\"sk-top-container\"><div class=\"sk-text-repr-fallback\"><pre>LinearRegression()</pre><b>In a Jupyter environment, please rerun this cell to show the HTML representation or trust the notebook. <br />On GitHub, the HTML representation is unable to render, please try loading this page with nbviewer.org.</b></div><div class=\"sk-container\" hidden><div class=\"sk-item\"><div class=\"sk-estimator fitted sk-toggleable\"><input class=\"sk-toggleable__control sk-hidden--visually\" id=\"sk-estimator-id-1\" type=\"checkbox\" checked><label for=\"sk-estimator-id-1\" class=\"sk-toggleable__label fitted sk-toggleable__label-arrow fitted\">&nbsp;&nbsp;LinearRegression<a class=\"sk-estimator-doc-link fitted\" rel=\"noreferrer\" target=\"_blank\" href=\"https://scikit-learn.org/1.4/modules/generated/sklearn.linear_model.LinearRegression.html\">?<span>Documentation for LinearRegression</span></a><span class=\"sk-estimator-doc-link fitted\">i<span>Fitted</span></span></label><div class=\"sk-toggleable__content fitted\"><pre>LinearRegression()</pre></div> </div></div></div></div>"
      ],
      "text/plain": [
       "LinearRegression()"
      ]
     },
     "execution_count": 12,
     "metadata": {},
     "output_type": "execute_result"
    }
   ],
   "source": [
    "model_geo_0 = LinearRegression()\n",
    "model_geo_0.fit(features_geo_0_train, target_geo_0_train)"
   ]
  },
  {
   "cell_type": "code",
   "execution_count": 13,
   "metadata": {},
   "outputs": [
    {
     "data": {
      "text/html": [
       "<style>#sk-container-id-2 {\n",
       "  /* Definition of color scheme common for light and dark mode */\n",
       "  --sklearn-color-text: black;\n",
       "  --sklearn-color-line: gray;\n",
       "  /* Definition of color scheme for unfitted estimators */\n",
       "  --sklearn-color-unfitted-level-0: #fff5e6;\n",
       "  --sklearn-color-unfitted-level-1: #f6e4d2;\n",
       "  --sklearn-color-unfitted-level-2: #ffe0b3;\n",
       "  --sklearn-color-unfitted-level-3: chocolate;\n",
       "  /* Definition of color scheme for fitted estimators */\n",
       "  --sklearn-color-fitted-level-0: #f0f8ff;\n",
       "  --sklearn-color-fitted-level-1: #d4ebff;\n",
       "  --sklearn-color-fitted-level-2: #b3dbfd;\n",
       "  --sklearn-color-fitted-level-3: cornflowerblue;\n",
       "\n",
       "  /* Specific color for light theme */\n",
       "  --sklearn-color-text-on-default-background: var(--sg-text-color, var(--theme-code-foreground, var(--jp-content-font-color1, black)));\n",
       "  --sklearn-color-background: var(--sg-background-color, var(--theme-background, var(--jp-layout-color0, white)));\n",
       "  --sklearn-color-border-box: var(--sg-text-color, var(--theme-code-foreground, var(--jp-content-font-color1, black)));\n",
       "  --sklearn-color-icon: #696969;\n",
       "\n",
       "  @media (prefers-color-scheme: dark) {\n",
       "    /* Redefinition of color scheme for dark theme */\n",
       "    --sklearn-color-text-on-default-background: var(--sg-text-color, var(--theme-code-foreground, var(--jp-content-font-color1, white)));\n",
       "    --sklearn-color-background: var(--sg-background-color, var(--theme-background, var(--jp-layout-color0, #111)));\n",
       "    --sklearn-color-border-box: var(--sg-text-color, var(--theme-code-foreground, var(--jp-content-font-color1, white)));\n",
       "    --sklearn-color-icon: #878787;\n",
       "  }\n",
       "}\n",
       "\n",
       "#sk-container-id-2 {\n",
       "  color: var(--sklearn-color-text);\n",
       "}\n",
       "\n",
       "#sk-container-id-2 pre {\n",
       "  padding: 0;\n",
       "}\n",
       "\n",
       "#sk-container-id-2 input.sk-hidden--visually {\n",
       "  border: 0;\n",
       "  clip: rect(1px 1px 1px 1px);\n",
       "  clip: rect(1px, 1px, 1px, 1px);\n",
       "  height: 1px;\n",
       "  margin: -1px;\n",
       "  overflow: hidden;\n",
       "  padding: 0;\n",
       "  position: absolute;\n",
       "  width: 1px;\n",
       "}\n",
       "\n",
       "#sk-container-id-2 div.sk-dashed-wrapped {\n",
       "  border: 1px dashed var(--sklearn-color-line);\n",
       "  margin: 0 0.4em 0.5em 0.4em;\n",
       "  box-sizing: border-box;\n",
       "  padding-bottom: 0.4em;\n",
       "  background-color: var(--sklearn-color-background);\n",
       "}\n",
       "\n",
       "#sk-container-id-2 div.sk-container {\n",
       "  /* jupyter's `normalize.less` sets `[hidden] { display: none; }`\n",
       "     but bootstrap.min.css set `[hidden] { display: none !important; }`\n",
       "     so we also need the `!important` here to be able to override the\n",
       "     default hidden behavior on the sphinx rendered scikit-learn.org.\n",
       "     See: https://github.com/scikit-learn/scikit-learn/issues/21755 */\n",
       "  display: inline-block !important;\n",
       "  position: relative;\n",
       "}\n",
       "\n",
       "#sk-container-id-2 div.sk-text-repr-fallback {\n",
       "  display: none;\n",
       "}\n",
       "\n",
       "div.sk-parallel-item,\n",
       "div.sk-serial,\n",
       "div.sk-item {\n",
       "  /* draw centered vertical line to link estimators */\n",
       "  background-image: linear-gradient(var(--sklearn-color-text-on-default-background), var(--sklearn-color-text-on-default-background));\n",
       "  background-size: 2px 100%;\n",
       "  background-repeat: no-repeat;\n",
       "  background-position: center center;\n",
       "}\n",
       "\n",
       "/* Parallel-specific style estimator block */\n",
       "\n",
       "#sk-container-id-2 div.sk-parallel-item::after {\n",
       "  content: \"\";\n",
       "  width: 100%;\n",
       "  border-bottom: 2px solid var(--sklearn-color-text-on-default-background);\n",
       "  flex-grow: 1;\n",
       "}\n",
       "\n",
       "#sk-container-id-2 div.sk-parallel {\n",
       "  display: flex;\n",
       "  align-items: stretch;\n",
       "  justify-content: center;\n",
       "  background-color: var(--sklearn-color-background);\n",
       "  position: relative;\n",
       "}\n",
       "\n",
       "#sk-container-id-2 div.sk-parallel-item {\n",
       "  display: flex;\n",
       "  flex-direction: column;\n",
       "}\n",
       "\n",
       "#sk-container-id-2 div.sk-parallel-item:first-child::after {\n",
       "  align-self: flex-end;\n",
       "  width: 50%;\n",
       "}\n",
       "\n",
       "#sk-container-id-2 div.sk-parallel-item:last-child::after {\n",
       "  align-self: flex-start;\n",
       "  width: 50%;\n",
       "}\n",
       "\n",
       "#sk-container-id-2 div.sk-parallel-item:only-child::after {\n",
       "  width: 0;\n",
       "}\n",
       "\n",
       "/* Serial-specific style estimator block */\n",
       "\n",
       "#sk-container-id-2 div.sk-serial {\n",
       "  display: flex;\n",
       "  flex-direction: column;\n",
       "  align-items: center;\n",
       "  background-color: var(--sklearn-color-background);\n",
       "  padding-right: 1em;\n",
       "  padding-left: 1em;\n",
       "}\n",
       "\n",
       "\n",
       "/* Toggleable style: style used for estimator/Pipeline/ColumnTransformer box that is\n",
       "clickable and can be expanded/collapsed.\n",
       "- Pipeline and ColumnTransformer use this feature and define the default style\n",
       "- Estimators will overwrite some part of the style using the `sk-estimator` class\n",
       "*/\n",
       "\n",
       "/* Pipeline and ColumnTransformer style (default) */\n",
       "\n",
       "#sk-container-id-2 div.sk-toggleable {\n",
       "  /* Default theme specific background. It is overwritten whether we have a\n",
       "  specific estimator or a Pipeline/ColumnTransformer */\n",
       "  background-color: var(--sklearn-color-background);\n",
       "}\n",
       "\n",
       "/* Toggleable label */\n",
       "#sk-container-id-2 label.sk-toggleable__label {\n",
       "  cursor: pointer;\n",
       "  display: block;\n",
       "  width: 100%;\n",
       "  margin-bottom: 0;\n",
       "  padding: 0.5em;\n",
       "  box-sizing: border-box;\n",
       "  text-align: center;\n",
       "}\n",
       "\n",
       "#sk-container-id-2 label.sk-toggleable__label-arrow:before {\n",
       "  /* Arrow on the left of the label */\n",
       "  content: \"▸\";\n",
       "  float: left;\n",
       "  margin-right: 0.25em;\n",
       "  color: var(--sklearn-color-icon);\n",
       "}\n",
       "\n",
       "#sk-container-id-2 label.sk-toggleable__label-arrow:hover:before {\n",
       "  color: var(--sklearn-color-text);\n",
       "}\n",
       "\n",
       "/* Toggleable content - dropdown */\n",
       "\n",
       "#sk-container-id-2 div.sk-toggleable__content {\n",
       "  max-height: 0;\n",
       "  max-width: 0;\n",
       "  overflow: hidden;\n",
       "  text-align: left;\n",
       "  /* unfitted */\n",
       "  background-color: var(--sklearn-color-unfitted-level-0);\n",
       "}\n",
       "\n",
       "#sk-container-id-2 div.sk-toggleable__content.fitted {\n",
       "  /* fitted */\n",
       "  background-color: var(--sklearn-color-fitted-level-0);\n",
       "}\n",
       "\n",
       "#sk-container-id-2 div.sk-toggleable__content pre {\n",
       "  margin: 0.2em;\n",
       "  border-radius: 0.25em;\n",
       "  color: var(--sklearn-color-text);\n",
       "  /* unfitted */\n",
       "  background-color: var(--sklearn-color-unfitted-level-0);\n",
       "}\n",
       "\n",
       "#sk-container-id-2 div.sk-toggleable__content.fitted pre {\n",
       "  /* unfitted */\n",
       "  background-color: var(--sklearn-color-fitted-level-0);\n",
       "}\n",
       "\n",
       "#sk-container-id-2 input.sk-toggleable__control:checked~div.sk-toggleable__content {\n",
       "  /* Expand drop-down */\n",
       "  max-height: 200px;\n",
       "  max-width: 100%;\n",
       "  overflow: auto;\n",
       "}\n",
       "\n",
       "#sk-container-id-2 input.sk-toggleable__control:checked~label.sk-toggleable__label-arrow:before {\n",
       "  content: \"▾\";\n",
       "}\n",
       "\n",
       "/* Pipeline/ColumnTransformer-specific style */\n",
       "\n",
       "#sk-container-id-2 div.sk-label input.sk-toggleable__control:checked~label.sk-toggleable__label {\n",
       "  color: var(--sklearn-color-text);\n",
       "  background-color: var(--sklearn-color-unfitted-level-2);\n",
       "}\n",
       "\n",
       "#sk-container-id-2 div.sk-label.fitted input.sk-toggleable__control:checked~label.sk-toggleable__label {\n",
       "  background-color: var(--sklearn-color-fitted-level-2);\n",
       "}\n",
       "\n",
       "/* Estimator-specific style */\n",
       "\n",
       "/* Colorize estimator box */\n",
       "#sk-container-id-2 div.sk-estimator input.sk-toggleable__control:checked~label.sk-toggleable__label {\n",
       "  /* unfitted */\n",
       "  background-color: var(--sklearn-color-unfitted-level-2);\n",
       "}\n",
       "\n",
       "#sk-container-id-2 div.sk-estimator.fitted input.sk-toggleable__control:checked~label.sk-toggleable__label {\n",
       "  /* fitted */\n",
       "  background-color: var(--sklearn-color-fitted-level-2);\n",
       "}\n",
       "\n",
       "#sk-container-id-2 div.sk-label label.sk-toggleable__label,\n",
       "#sk-container-id-2 div.sk-label label {\n",
       "  /* The background is the default theme color */\n",
       "  color: var(--sklearn-color-text-on-default-background);\n",
       "}\n",
       "\n",
       "/* On hover, darken the color of the background */\n",
       "#sk-container-id-2 div.sk-label:hover label.sk-toggleable__label {\n",
       "  color: var(--sklearn-color-text);\n",
       "  background-color: var(--sklearn-color-unfitted-level-2);\n",
       "}\n",
       "\n",
       "/* Label box, darken color on hover, fitted */\n",
       "#sk-container-id-2 div.sk-label.fitted:hover label.sk-toggleable__label.fitted {\n",
       "  color: var(--sklearn-color-text);\n",
       "  background-color: var(--sklearn-color-fitted-level-2);\n",
       "}\n",
       "\n",
       "/* Estimator label */\n",
       "\n",
       "#sk-container-id-2 div.sk-label label {\n",
       "  font-family: monospace;\n",
       "  font-weight: bold;\n",
       "  display: inline-block;\n",
       "  line-height: 1.2em;\n",
       "}\n",
       "\n",
       "#sk-container-id-2 div.sk-label-container {\n",
       "  text-align: center;\n",
       "}\n",
       "\n",
       "/* Estimator-specific */\n",
       "#sk-container-id-2 div.sk-estimator {\n",
       "  font-family: monospace;\n",
       "  border: 1px dotted var(--sklearn-color-border-box);\n",
       "  border-radius: 0.25em;\n",
       "  box-sizing: border-box;\n",
       "  margin-bottom: 0.5em;\n",
       "  /* unfitted */\n",
       "  background-color: var(--sklearn-color-unfitted-level-0);\n",
       "}\n",
       "\n",
       "#sk-container-id-2 div.sk-estimator.fitted {\n",
       "  /* fitted */\n",
       "  background-color: var(--sklearn-color-fitted-level-0);\n",
       "}\n",
       "\n",
       "/* on hover */\n",
       "#sk-container-id-2 div.sk-estimator:hover {\n",
       "  /* unfitted */\n",
       "  background-color: var(--sklearn-color-unfitted-level-2);\n",
       "}\n",
       "\n",
       "#sk-container-id-2 div.sk-estimator.fitted:hover {\n",
       "  /* fitted */\n",
       "  background-color: var(--sklearn-color-fitted-level-2);\n",
       "}\n",
       "\n",
       "/* Specification for estimator info (e.g. \"i\" and \"?\") */\n",
       "\n",
       "/* Common style for \"i\" and \"?\" */\n",
       "\n",
       ".sk-estimator-doc-link,\n",
       "a:link.sk-estimator-doc-link,\n",
       "a:visited.sk-estimator-doc-link {\n",
       "  float: right;\n",
       "  font-size: smaller;\n",
       "  line-height: 1em;\n",
       "  font-family: monospace;\n",
       "  background-color: var(--sklearn-color-background);\n",
       "  border-radius: 1em;\n",
       "  height: 1em;\n",
       "  width: 1em;\n",
       "  text-decoration: none !important;\n",
       "  margin-left: 1ex;\n",
       "  /* unfitted */\n",
       "  border: var(--sklearn-color-unfitted-level-1) 1pt solid;\n",
       "  color: var(--sklearn-color-unfitted-level-1);\n",
       "}\n",
       "\n",
       ".sk-estimator-doc-link.fitted,\n",
       "a:link.sk-estimator-doc-link.fitted,\n",
       "a:visited.sk-estimator-doc-link.fitted {\n",
       "  /* fitted */\n",
       "  border: var(--sklearn-color-fitted-level-1) 1pt solid;\n",
       "  color: var(--sklearn-color-fitted-level-1);\n",
       "}\n",
       "\n",
       "/* On hover */\n",
       "div.sk-estimator:hover .sk-estimator-doc-link:hover,\n",
       ".sk-estimator-doc-link:hover,\n",
       "div.sk-label-container:hover .sk-estimator-doc-link:hover,\n",
       ".sk-estimator-doc-link:hover {\n",
       "  /* unfitted */\n",
       "  background-color: var(--sklearn-color-unfitted-level-3);\n",
       "  color: var(--sklearn-color-background);\n",
       "  text-decoration: none;\n",
       "}\n",
       "\n",
       "div.sk-estimator.fitted:hover .sk-estimator-doc-link.fitted:hover,\n",
       ".sk-estimator-doc-link.fitted:hover,\n",
       "div.sk-label-container:hover .sk-estimator-doc-link.fitted:hover,\n",
       ".sk-estimator-doc-link.fitted:hover {\n",
       "  /* fitted */\n",
       "  background-color: var(--sklearn-color-fitted-level-3);\n",
       "  color: var(--sklearn-color-background);\n",
       "  text-decoration: none;\n",
       "}\n",
       "\n",
       "/* Span, style for the box shown on hovering the info icon */\n",
       ".sk-estimator-doc-link span {\n",
       "  display: none;\n",
       "  z-index: 9999;\n",
       "  position: relative;\n",
       "  font-weight: normal;\n",
       "  right: .2ex;\n",
       "  padding: .5ex;\n",
       "  margin: .5ex;\n",
       "  width: min-content;\n",
       "  min-width: 20ex;\n",
       "  max-width: 50ex;\n",
       "  color: var(--sklearn-color-text);\n",
       "  box-shadow: 2pt 2pt 4pt #999;\n",
       "  /* unfitted */\n",
       "  background: var(--sklearn-color-unfitted-level-0);\n",
       "  border: .5pt solid var(--sklearn-color-unfitted-level-3);\n",
       "}\n",
       "\n",
       ".sk-estimator-doc-link.fitted span {\n",
       "  /* fitted */\n",
       "  background: var(--sklearn-color-fitted-level-0);\n",
       "  border: var(--sklearn-color-fitted-level-3);\n",
       "}\n",
       "\n",
       ".sk-estimator-doc-link:hover span {\n",
       "  display: block;\n",
       "}\n",
       "\n",
       "/* \"?\"-specific style due to the `<a>` HTML tag */\n",
       "\n",
       "#sk-container-id-2 a.estimator_doc_link {\n",
       "  float: right;\n",
       "  font-size: 1rem;\n",
       "  line-height: 1em;\n",
       "  font-family: monospace;\n",
       "  background-color: var(--sklearn-color-background);\n",
       "  border-radius: 1rem;\n",
       "  height: 1rem;\n",
       "  width: 1rem;\n",
       "  text-decoration: none;\n",
       "  /* unfitted */\n",
       "  color: var(--sklearn-color-unfitted-level-1);\n",
       "  border: var(--sklearn-color-unfitted-level-1) 1pt solid;\n",
       "}\n",
       "\n",
       "#sk-container-id-2 a.estimator_doc_link.fitted {\n",
       "  /* fitted */\n",
       "  border: var(--sklearn-color-fitted-level-1) 1pt solid;\n",
       "  color: var(--sklearn-color-fitted-level-1);\n",
       "}\n",
       "\n",
       "/* On hover */\n",
       "#sk-container-id-2 a.estimator_doc_link:hover {\n",
       "  /* unfitted */\n",
       "  background-color: var(--sklearn-color-unfitted-level-3);\n",
       "  color: var(--sklearn-color-background);\n",
       "  text-decoration: none;\n",
       "}\n",
       "\n",
       "#sk-container-id-2 a.estimator_doc_link.fitted:hover {\n",
       "  /* fitted */\n",
       "  background-color: var(--sklearn-color-fitted-level-3);\n",
       "}\n",
       "</style><div id=\"sk-container-id-2\" class=\"sk-top-container\"><div class=\"sk-text-repr-fallback\"><pre>LinearRegression()</pre><b>In a Jupyter environment, please rerun this cell to show the HTML representation or trust the notebook. <br />On GitHub, the HTML representation is unable to render, please try loading this page with nbviewer.org.</b></div><div class=\"sk-container\" hidden><div class=\"sk-item\"><div class=\"sk-estimator fitted sk-toggleable\"><input class=\"sk-toggleable__control sk-hidden--visually\" id=\"sk-estimator-id-2\" type=\"checkbox\" checked><label for=\"sk-estimator-id-2\" class=\"sk-toggleable__label fitted sk-toggleable__label-arrow fitted\">&nbsp;&nbsp;LinearRegression<a class=\"sk-estimator-doc-link fitted\" rel=\"noreferrer\" target=\"_blank\" href=\"https://scikit-learn.org/1.4/modules/generated/sklearn.linear_model.LinearRegression.html\">?<span>Documentation for LinearRegression</span></a><span class=\"sk-estimator-doc-link fitted\">i<span>Fitted</span></span></label><div class=\"sk-toggleable__content fitted\"><pre>LinearRegression()</pre></div> </div></div></div></div>"
      ],
      "text/plain": [
       "LinearRegression()"
      ]
     },
     "execution_count": 13,
     "metadata": {},
     "output_type": "execute_result"
    }
   ],
   "source": [
    "model_geo_1 = LinearRegression()\n",
    "model_geo_1.fit(features_geo_1_train, target_geo_1_train)"
   ]
  },
  {
   "cell_type": "code",
   "execution_count": 14,
   "metadata": {},
   "outputs": [
    {
     "data": {
      "text/html": [
       "<style>#sk-container-id-3 {\n",
       "  /* Definition of color scheme common for light and dark mode */\n",
       "  --sklearn-color-text: black;\n",
       "  --sklearn-color-line: gray;\n",
       "  /* Definition of color scheme for unfitted estimators */\n",
       "  --sklearn-color-unfitted-level-0: #fff5e6;\n",
       "  --sklearn-color-unfitted-level-1: #f6e4d2;\n",
       "  --sklearn-color-unfitted-level-2: #ffe0b3;\n",
       "  --sklearn-color-unfitted-level-3: chocolate;\n",
       "  /* Definition of color scheme for fitted estimators */\n",
       "  --sklearn-color-fitted-level-0: #f0f8ff;\n",
       "  --sklearn-color-fitted-level-1: #d4ebff;\n",
       "  --sklearn-color-fitted-level-2: #b3dbfd;\n",
       "  --sklearn-color-fitted-level-3: cornflowerblue;\n",
       "\n",
       "  /* Specific color for light theme */\n",
       "  --sklearn-color-text-on-default-background: var(--sg-text-color, var(--theme-code-foreground, var(--jp-content-font-color1, black)));\n",
       "  --sklearn-color-background: var(--sg-background-color, var(--theme-background, var(--jp-layout-color0, white)));\n",
       "  --sklearn-color-border-box: var(--sg-text-color, var(--theme-code-foreground, var(--jp-content-font-color1, black)));\n",
       "  --sklearn-color-icon: #696969;\n",
       "\n",
       "  @media (prefers-color-scheme: dark) {\n",
       "    /* Redefinition of color scheme for dark theme */\n",
       "    --sklearn-color-text-on-default-background: var(--sg-text-color, var(--theme-code-foreground, var(--jp-content-font-color1, white)));\n",
       "    --sklearn-color-background: var(--sg-background-color, var(--theme-background, var(--jp-layout-color0, #111)));\n",
       "    --sklearn-color-border-box: var(--sg-text-color, var(--theme-code-foreground, var(--jp-content-font-color1, white)));\n",
       "    --sklearn-color-icon: #878787;\n",
       "  }\n",
       "}\n",
       "\n",
       "#sk-container-id-3 {\n",
       "  color: var(--sklearn-color-text);\n",
       "}\n",
       "\n",
       "#sk-container-id-3 pre {\n",
       "  padding: 0;\n",
       "}\n",
       "\n",
       "#sk-container-id-3 input.sk-hidden--visually {\n",
       "  border: 0;\n",
       "  clip: rect(1px 1px 1px 1px);\n",
       "  clip: rect(1px, 1px, 1px, 1px);\n",
       "  height: 1px;\n",
       "  margin: -1px;\n",
       "  overflow: hidden;\n",
       "  padding: 0;\n",
       "  position: absolute;\n",
       "  width: 1px;\n",
       "}\n",
       "\n",
       "#sk-container-id-3 div.sk-dashed-wrapped {\n",
       "  border: 1px dashed var(--sklearn-color-line);\n",
       "  margin: 0 0.4em 0.5em 0.4em;\n",
       "  box-sizing: border-box;\n",
       "  padding-bottom: 0.4em;\n",
       "  background-color: var(--sklearn-color-background);\n",
       "}\n",
       "\n",
       "#sk-container-id-3 div.sk-container {\n",
       "  /* jupyter's `normalize.less` sets `[hidden] { display: none; }`\n",
       "     but bootstrap.min.css set `[hidden] { display: none !important; }`\n",
       "     so we also need the `!important` here to be able to override the\n",
       "     default hidden behavior on the sphinx rendered scikit-learn.org.\n",
       "     See: https://github.com/scikit-learn/scikit-learn/issues/21755 */\n",
       "  display: inline-block !important;\n",
       "  position: relative;\n",
       "}\n",
       "\n",
       "#sk-container-id-3 div.sk-text-repr-fallback {\n",
       "  display: none;\n",
       "}\n",
       "\n",
       "div.sk-parallel-item,\n",
       "div.sk-serial,\n",
       "div.sk-item {\n",
       "  /* draw centered vertical line to link estimators */\n",
       "  background-image: linear-gradient(var(--sklearn-color-text-on-default-background), var(--sklearn-color-text-on-default-background));\n",
       "  background-size: 2px 100%;\n",
       "  background-repeat: no-repeat;\n",
       "  background-position: center center;\n",
       "}\n",
       "\n",
       "/* Parallel-specific style estimator block */\n",
       "\n",
       "#sk-container-id-3 div.sk-parallel-item::after {\n",
       "  content: \"\";\n",
       "  width: 100%;\n",
       "  border-bottom: 2px solid var(--sklearn-color-text-on-default-background);\n",
       "  flex-grow: 1;\n",
       "}\n",
       "\n",
       "#sk-container-id-3 div.sk-parallel {\n",
       "  display: flex;\n",
       "  align-items: stretch;\n",
       "  justify-content: center;\n",
       "  background-color: var(--sklearn-color-background);\n",
       "  position: relative;\n",
       "}\n",
       "\n",
       "#sk-container-id-3 div.sk-parallel-item {\n",
       "  display: flex;\n",
       "  flex-direction: column;\n",
       "}\n",
       "\n",
       "#sk-container-id-3 div.sk-parallel-item:first-child::after {\n",
       "  align-self: flex-end;\n",
       "  width: 50%;\n",
       "}\n",
       "\n",
       "#sk-container-id-3 div.sk-parallel-item:last-child::after {\n",
       "  align-self: flex-start;\n",
       "  width: 50%;\n",
       "}\n",
       "\n",
       "#sk-container-id-3 div.sk-parallel-item:only-child::after {\n",
       "  width: 0;\n",
       "}\n",
       "\n",
       "/* Serial-specific style estimator block */\n",
       "\n",
       "#sk-container-id-3 div.sk-serial {\n",
       "  display: flex;\n",
       "  flex-direction: column;\n",
       "  align-items: center;\n",
       "  background-color: var(--sklearn-color-background);\n",
       "  padding-right: 1em;\n",
       "  padding-left: 1em;\n",
       "}\n",
       "\n",
       "\n",
       "/* Toggleable style: style used for estimator/Pipeline/ColumnTransformer box that is\n",
       "clickable and can be expanded/collapsed.\n",
       "- Pipeline and ColumnTransformer use this feature and define the default style\n",
       "- Estimators will overwrite some part of the style using the `sk-estimator` class\n",
       "*/\n",
       "\n",
       "/* Pipeline and ColumnTransformer style (default) */\n",
       "\n",
       "#sk-container-id-3 div.sk-toggleable {\n",
       "  /* Default theme specific background. It is overwritten whether we have a\n",
       "  specific estimator or a Pipeline/ColumnTransformer */\n",
       "  background-color: var(--sklearn-color-background);\n",
       "}\n",
       "\n",
       "/* Toggleable label */\n",
       "#sk-container-id-3 label.sk-toggleable__label {\n",
       "  cursor: pointer;\n",
       "  display: block;\n",
       "  width: 100%;\n",
       "  margin-bottom: 0;\n",
       "  padding: 0.5em;\n",
       "  box-sizing: border-box;\n",
       "  text-align: center;\n",
       "}\n",
       "\n",
       "#sk-container-id-3 label.sk-toggleable__label-arrow:before {\n",
       "  /* Arrow on the left of the label */\n",
       "  content: \"▸\";\n",
       "  float: left;\n",
       "  margin-right: 0.25em;\n",
       "  color: var(--sklearn-color-icon);\n",
       "}\n",
       "\n",
       "#sk-container-id-3 label.sk-toggleable__label-arrow:hover:before {\n",
       "  color: var(--sklearn-color-text);\n",
       "}\n",
       "\n",
       "/* Toggleable content - dropdown */\n",
       "\n",
       "#sk-container-id-3 div.sk-toggleable__content {\n",
       "  max-height: 0;\n",
       "  max-width: 0;\n",
       "  overflow: hidden;\n",
       "  text-align: left;\n",
       "  /* unfitted */\n",
       "  background-color: var(--sklearn-color-unfitted-level-0);\n",
       "}\n",
       "\n",
       "#sk-container-id-3 div.sk-toggleable__content.fitted {\n",
       "  /* fitted */\n",
       "  background-color: var(--sklearn-color-fitted-level-0);\n",
       "}\n",
       "\n",
       "#sk-container-id-3 div.sk-toggleable__content pre {\n",
       "  margin: 0.2em;\n",
       "  border-radius: 0.25em;\n",
       "  color: var(--sklearn-color-text);\n",
       "  /* unfitted */\n",
       "  background-color: var(--sklearn-color-unfitted-level-0);\n",
       "}\n",
       "\n",
       "#sk-container-id-3 div.sk-toggleable__content.fitted pre {\n",
       "  /* unfitted */\n",
       "  background-color: var(--sklearn-color-fitted-level-0);\n",
       "}\n",
       "\n",
       "#sk-container-id-3 input.sk-toggleable__control:checked~div.sk-toggleable__content {\n",
       "  /* Expand drop-down */\n",
       "  max-height: 200px;\n",
       "  max-width: 100%;\n",
       "  overflow: auto;\n",
       "}\n",
       "\n",
       "#sk-container-id-3 input.sk-toggleable__control:checked~label.sk-toggleable__label-arrow:before {\n",
       "  content: \"▾\";\n",
       "}\n",
       "\n",
       "/* Pipeline/ColumnTransformer-specific style */\n",
       "\n",
       "#sk-container-id-3 div.sk-label input.sk-toggleable__control:checked~label.sk-toggleable__label {\n",
       "  color: var(--sklearn-color-text);\n",
       "  background-color: var(--sklearn-color-unfitted-level-2);\n",
       "}\n",
       "\n",
       "#sk-container-id-3 div.sk-label.fitted input.sk-toggleable__control:checked~label.sk-toggleable__label {\n",
       "  background-color: var(--sklearn-color-fitted-level-2);\n",
       "}\n",
       "\n",
       "/* Estimator-specific style */\n",
       "\n",
       "/* Colorize estimator box */\n",
       "#sk-container-id-3 div.sk-estimator input.sk-toggleable__control:checked~label.sk-toggleable__label {\n",
       "  /* unfitted */\n",
       "  background-color: var(--sklearn-color-unfitted-level-2);\n",
       "}\n",
       "\n",
       "#sk-container-id-3 div.sk-estimator.fitted input.sk-toggleable__control:checked~label.sk-toggleable__label {\n",
       "  /* fitted */\n",
       "  background-color: var(--sklearn-color-fitted-level-2);\n",
       "}\n",
       "\n",
       "#sk-container-id-3 div.sk-label label.sk-toggleable__label,\n",
       "#sk-container-id-3 div.sk-label label {\n",
       "  /* The background is the default theme color */\n",
       "  color: var(--sklearn-color-text-on-default-background);\n",
       "}\n",
       "\n",
       "/* On hover, darken the color of the background */\n",
       "#sk-container-id-3 div.sk-label:hover label.sk-toggleable__label {\n",
       "  color: var(--sklearn-color-text);\n",
       "  background-color: var(--sklearn-color-unfitted-level-2);\n",
       "}\n",
       "\n",
       "/* Label box, darken color on hover, fitted */\n",
       "#sk-container-id-3 div.sk-label.fitted:hover label.sk-toggleable__label.fitted {\n",
       "  color: var(--sklearn-color-text);\n",
       "  background-color: var(--sklearn-color-fitted-level-2);\n",
       "}\n",
       "\n",
       "/* Estimator label */\n",
       "\n",
       "#sk-container-id-3 div.sk-label label {\n",
       "  font-family: monospace;\n",
       "  font-weight: bold;\n",
       "  display: inline-block;\n",
       "  line-height: 1.2em;\n",
       "}\n",
       "\n",
       "#sk-container-id-3 div.sk-label-container {\n",
       "  text-align: center;\n",
       "}\n",
       "\n",
       "/* Estimator-specific */\n",
       "#sk-container-id-3 div.sk-estimator {\n",
       "  font-family: monospace;\n",
       "  border: 1px dotted var(--sklearn-color-border-box);\n",
       "  border-radius: 0.25em;\n",
       "  box-sizing: border-box;\n",
       "  margin-bottom: 0.5em;\n",
       "  /* unfitted */\n",
       "  background-color: var(--sklearn-color-unfitted-level-0);\n",
       "}\n",
       "\n",
       "#sk-container-id-3 div.sk-estimator.fitted {\n",
       "  /* fitted */\n",
       "  background-color: var(--sklearn-color-fitted-level-0);\n",
       "}\n",
       "\n",
       "/* on hover */\n",
       "#sk-container-id-3 div.sk-estimator:hover {\n",
       "  /* unfitted */\n",
       "  background-color: var(--sklearn-color-unfitted-level-2);\n",
       "}\n",
       "\n",
       "#sk-container-id-3 div.sk-estimator.fitted:hover {\n",
       "  /* fitted */\n",
       "  background-color: var(--sklearn-color-fitted-level-2);\n",
       "}\n",
       "\n",
       "/* Specification for estimator info (e.g. \"i\" and \"?\") */\n",
       "\n",
       "/* Common style for \"i\" and \"?\" */\n",
       "\n",
       ".sk-estimator-doc-link,\n",
       "a:link.sk-estimator-doc-link,\n",
       "a:visited.sk-estimator-doc-link {\n",
       "  float: right;\n",
       "  font-size: smaller;\n",
       "  line-height: 1em;\n",
       "  font-family: monospace;\n",
       "  background-color: var(--sklearn-color-background);\n",
       "  border-radius: 1em;\n",
       "  height: 1em;\n",
       "  width: 1em;\n",
       "  text-decoration: none !important;\n",
       "  margin-left: 1ex;\n",
       "  /* unfitted */\n",
       "  border: var(--sklearn-color-unfitted-level-1) 1pt solid;\n",
       "  color: var(--sklearn-color-unfitted-level-1);\n",
       "}\n",
       "\n",
       ".sk-estimator-doc-link.fitted,\n",
       "a:link.sk-estimator-doc-link.fitted,\n",
       "a:visited.sk-estimator-doc-link.fitted {\n",
       "  /* fitted */\n",
       "  border: var(--sklearn-color-fitted-level-1) 1pt solid;\n",
       "  color: var(--sklearn-color-fitted-level-1);\n",
       "}\n",
       "\n",
       "/* On hover */\n",
       "div.sk-estimator:hover .sk-estimator-doc-link:hover,\n",
       ".sk-estimator-doc-link:hover,\n",
       "div.sk-label-container:hover .sk-estimator-doc-link:hover,\n",
       ".sk-estimator-doc-link:hover {\n",
       "  /* unfitted */\n",
       "  background-color: var(--sklearn-color-unfitted-level-3);\n",
       "  color: var(--sklearn-color-background);\n",
       "  text-decoration: none;\n",
       "}\n",
       "\n",
       "div.sk-estimator.fitted:hover .sk-estimator-doc-link.fitted:hover,\n",
       ".sk-estimator-doc-link.fitted:hover,\n",
       "div.sk-label-container:hover .sk-estimator-doc-link.fitted:hover,\n",
       ".sk-estimator-doc-link.fitted:hover {\n",
       "  /* fitted */\n",
       "  background-color: var(--sklearn-color-fitted-level-3);\n",
       "  color: var(--sklearn-color-background);\n",
       "  text-decoration: none;\n",
       "}\n",
       "\n",
       "/* Span, style for the box shown on hovering the info icon */\n",
       ".sk-estimator-doc-link span {\n",
       "  display: none;\n",
       "  z-index: 9999;\n",
       "  position: relative;\n",
       "  font-weight: normal;\n",
       "  right: .2ex;\n",
       "  padding: .5ex;\n",
       "  margin: .5ex;\n",
       "  width: min-content;\n",
       "  min-width: 20ex;\n",
       "  max-width: 50ex;\n",
       "  color: var(--sklearn-color-text);\n",
       "  box-shadow: 2pt 2pt 4pt #999;\n",
       "  /* unfitted */\n",
       "  background: var(--sklearn-color-unfitted-level-0);\n",
       "  border: .5pt solid var(--sklearn-color-unfitted-level-3);\n",
       "}\n",
       "\n",
       ".sk-estimator-doc-link.fitted span {\n",
       "  /* fitted */\n",
       "  background: var(--sklearn-color-fitted-level-0);\n",
       "  border: var(--sklearn-color-fitted-level-3);\n",
       "}\n",
       "\n",
       ".sk-estimator-doc-link:hover span {\n",
       "  display: block;\n",
       "}\n",
       "\n",
       "/* \"?\"-specific style due to the `<a>` HTML tag */\n",
       "\n",
       "#sk-container-id-3 a.estimator_doc_link {\n",
       "  float: right;\n",
       "  font-size: 1rem;\n",
       "  line-height: 1em;\n",
       "  font-family: monospace;\n",
       "  background-color: var(--sklearn-color-background);\n",
       "  border-radius: 1rem;\n",
       "  height: 1rem;\n",
       "  width: 1rem;\n",
       "  text-decoration: none;\n",
       "  /* unfitted */\n",
       "  color: var(--sklearn-color-unfitted-level-1);\n",
       "  border: var(--sklearn-color-unfitted-level-1) 1pt solid;\n",
       "}\n",
       "\n",
       "#sk-container-id-3 a.estimator_doc_link.fitted {\n",
       "  /* fitted */\n",
       "  border: var(--sklearn-color-fitted-level-1) 1pt solid;\n",
       "  color: var(--sklearn-color-fitted-level-1);\n",
       "}\n",
       "\n",
       "/* On hover */\n",
       "#sk-container-id-3 a.estimator_doc_link:hover {\n",
       "  /* unfitted */\n",
       "  background-color: var(--sklearn-color-unfitted-level-3);\n",
       "  color: var(--sklearn-color-background);\n",
       "  text-decoration: none;\n",
       "}\n",
       "\n",
       "#sk-container-id-3 a.estimator_doc_link.fitted:hover {\n",
       "  /* fitted */\n",
       "  background-color: var(--sklearn-color-fitted-level-3);\n",
       "}\n",
       "</style><div id=\"sk-container-id-3\" class=\"sk-top-container\"><div class=\"sk-text-repr-fallback\"><pre>LinearRegression()</pre><b>In a Jupyter environment, please rerun this cell to show the HTML representation or trust the notebook. <br />On GitHub, the HTML representation is unable to render, please try loading this page with nbviewer.org.</b></div><div class=\"sk-container\" hidden><div class=\"sk-item\"><div class=\"sk-estimator fitted sk-toggleable\"><input class=\"sk-toggleable__control sk-hidden--visually\" id=\"sk-estimator-id-3\" type=\"checkbox\" checked><label for=\"sk-estimator-id-3\" class=\"sk-toggleable__label fitted sk-toggleable__label-arrow fitted\">&nbsp;&nbsp;LinearRegression<a class=\"sk-estimator-doc-link fitted\" rel=\"noreferrer\" target=\"_blank\" href=\"https://scikit-learn.org/1.4/modules/generated/sklearn.linear_model.LinearRegression.html\">?<span>Documentation for LinearRegression</span></a><span class=\"sk-estimator-doc-link fitted\">i<span>Fitted</span></span></label><div class=\"sk-toggleable__content fitted\"><pre>LinearRegression()</pre></div> </div></div></div></div>"
      ],
      "text/plain": [
       "LinearRegression()"
      ]
     },
     "execution_count": 14,
     "metadata": {},
     "output_type": "execute_result"
    }
   ],
   "source": [
    "model_geo_2 = LinearRegression()\n",
    "model_geo_2.fit(features_geo_2_train, target_geo_2_train)"
   ]
  },
  {
   "cell_type": "markdown",
   "metadata": {},
   "source": [
    "**<u>PART C</u>: Saving the Predictions and Correct Answers** <a id=3.3></a>"
   ]
  },
  {
   "cell_type": "markdown",
   "metadata": {},
   "source": [
    "By storing each region's predicted values into their own variables, I am saving them. \n",
    "\n",
    "Furthermore, the correct answers are stored in the variables **target_geo_0_valid**, **target_geo_1_valid**, and **target_geo_2_valid**, respectively."
   ]
  },
  {
   "cell_type": "code",
   "execution_count": 15,
   "metadata": {},
   "outputs": [],
   "source": [
    "predictions_geo_0_valid = model_geo_0.predict(features_geo_0_valid)\n",
    "predictions_geo_0_valid = pd.Series(predictions_geo_0_valid)"
   ]
  },
  {
   "cell_type": "code",
   "execution_count": 16,
   "metadata": {},
   "outputs": [],
   "source": [
    "predictions_geo_1_valid = model_geo_1.predict(features_geo_1_valid)\n",
    "predictions_geo_1_valid = pd.Series(predictions_geo_1_valid)"
   ]
  },
  {
   "cell_type": "code",
   "execution_count": 17,
   "metadata": {},
   "outputs": [],
   "source": [
    "predictions_geo_2_valid = model_geo_2.predict(features_geo_2_valid)\n",
    "predictions_geo_2_valid = pd.Series(predictions_geo_2_valid)"
   ]
  },
  {
   "cell_type": "markdown",
   "metadata": {},
   "source": [
    "**<u>PART D</u>: Printing the Average Volume of Predicted Reserves and Model RMSE** <a id=3.4></a>"
   ]
  },
  {
   "cell_type": "markdown",
   "metadata": {},
   "source": [
    "Notice that I am deliberately rounding the values to two decimal places to make the numbers easier to read."
   ]
  },
  {
   "cell_type": "code",
   "execution_count": 18,
   "metadata": {},
   "outputs": [
    {
     "name": "stdout",
     "output_type": "stream",
     "text": [
      "The average volume of actual reserves in Region 0 is: 92.08\n",
      "The average volume of predicted reserves in Region 0 is: 92.59\n"
     ]
    }
   ],
   "source": [
    "print(\"The average volume of actual reserves in Region 0 is:\", round(target_geo_0_valid.mean(), 2))\n",
    "print(\"The average volume of predicted reserves in Region 0 is:\", round(predictions_geo_0_valid.mean(), 2))"
   ]
  },
  {
   "cell_type": "code",
   "execution_count": 19,
   "metadata": {
    "scrolled": true
   },
   "outputs": [
    {
     "name": "stdout",
     "output_type": "stream",
     "text": [
      "The standard deviation of the volume of actual reserves in Region 0 is: 44.29\n",
      "The standard deviation of the volume of predicted reserves in Region 0 is: 23.18\n"
     ]
    }
   ],
   "source": [
    "print(\"The standard deviation of the volume of actual reserves in Region 0 is:\", round(target_geo_0_valid.std(), 2))\n",
    "print(\"The standard deviation of the volume of predicted reserves in Region 0 is:\", round(predictions_geo_0_valid.std(), 2))"
   ]
  },
  {
   "cell_type": "code",
   "execution_count": 20,
   "metadata": {},
   "outputs": [
    {
     "name": "stdout",
     "output_type": "stream",
     "text": [
      "RMSE of the linear regression model on the validation set for Region 0: 37.58\n"
     ]
    }
   ],
   "source": [
    "rmse_geo_0 = mean_squared_error(target_geo_0_valid, predictions_geo_0_valid)**0.5\n",
    "print(\"RMSE of the linear regression model on the validation set for Region 0:\", round(rmse_geo_0, 2))"
   ]
  },
  {
   "cell_type": "code",
   "execution_count": 21,
   "metadata": {},
   "outputs": [
    {
     "name": "stdout",
     "output_type": "stream",
     "text": [
      "The average volume of actual reserves in Region 1 is: 68.72\n",
      "The average volume of predicted reserves in Region 1 is: 68.73\n"
     ]
    }
   ],
   "source": [
    "print(\"The average volume of actual reserves in Region 1 is:\", round(target_geo_1_valid.mean(), 2))\n",
    "print(\"The average volume of predicted reserves in Region 1 is:\", round(predictions_geo_1_valid.mean(), 2))"
   ]
  },
  {
   "cell_type": "code",
   "execution_count": 22,
   "metadata": {},
   "outputs": [
    {
     "name": "stdout",
     "output_type": "stream",
     "text": [
      "The standard deviation of the volume of actual reserves in Region 1 is: 46.02\n",
      "The standard deviation of the volume of predicted reserves in Region 1 is: 46.01\n"
     ]
    }
   ],
   "source": [
    "print(\"The standard deviation of the volume of actual reserves in Region 1 is:\", round(target_geo_1_valid.std(), 2))\n",
    "print(\"The standard deviation of the volume of predicted reserves in Region 1 is:\", round(predictions_geo_1_valid.std(), 2))"
   ]
  },
  {
   "cell_type": "code",
   "execution_count": 23,
   "metadata": {},
   "outputs": [
    {
     "name": "stdout",
     "output_type": "stream",
     "text": [
      "RMSE of the linear regression model on the validation set for Region 1: 0.89\n"
     ]
    }
   ],
   "source": [
    "rmse_geo_1 = mean_squared_error(target_geo_1_valid, predictions_geo_1_valid)**0.5\n",
    "print(\"RMSE of the linear regression model on the validation set for Region 1:\", round(rmse_geo_1, 2))"
   ]
  },
  {
   "cell_type": "code",
   "execution_count": 24,
   "metadata": {},
   "outputs": [
    {
     "name": "stdout",
     "output_type": "stream",
     "text": [
      "The average volume of actual reserves in Region 2 is: 94.88\n",
      "The average volume of predicted reserves in Region 2 is: 94.97\n"
     ]
    }
   ],
   "source": [
    "print(\"The average volume of actual reserves in Region 2 is:\", round(target_geo_2_valid.mean(), 2))\n",
    "print(\"The average volume of predicted reserves in Region 2 is:\", round(predictions_geo_2_valid.mean(), 2))"
   ]
  },
  {
   "cell_type": "code",
   "execution_count": 25,
   "metadata": {},
   "outputs": [
    {
     "name": "stdout",
     "output_type": "stream",
     "text": [
      "The standard deviation of the volume of actual reserves in Region 2 is: 44.9\n",
      "The standard deviation of the volume of predicted reserves in Region 2 is: 19.85\n"
     ]
    }
   ],
   "source": [
    "print(\"The standard deviation of the volume of actual reserves in Region 2 is:\", round(target_geo_2_valid.std(), 2))\n",
    "print(\"The standard deviation of the volume of predicted reserves in Region 2 is:\", round(predictions_geo_2_valid.std(), 2))"
   ]
  },
  {
   "cell_type": "code",
   "execution_count": 26,
   "metadata": {},
   "outputs": [
    {
     "name": "stdout",
     "output_type": "stream",
     "text": [
      "RMSE of the linear regression model on the validation set for Region 2: 40.03\n"
     ]
    }
   ],
   "source": [
    "rmse_geo_2 = mean_squared_error(target_geo_2_valid, predictions_geo_2_valid)**0.5\n",
    "print(\"RMSE of the linear regression model on the validation set for Region 2:\", round(rmse_geo_2, 2))"
   ]
  },
  {
   "cell_type": "markdown",
   "metadata": {},
   "source": [
    "**<u>PART E</u>: Analyzing the Results** <a id=3.5></a>"
   ]
  },
  {
   "cell_type": "markdown",
   "metadata": {},
   "source": [
    "The results for Region 1 look great! The mean and standard deviation of the predicted values are very close to those of the actual values. \n",
    "\n",
    "Furthermore, the RMSE value is ***very*** small, about 0.89, which suggests that model truly does a good job of predicting Region 1's **product** values.\n",
    "\n",
    "Unfortunately, the models for Regions 0 and 2 are not as accurate. For both Region 0 and 2, the average volume of predicted reserves is very similar to the actual values, however the standard deviations are quite different. \n",
    "\n",
    "In both regions, the predicted standard deviation is roughly half that of the actual standard deviations. Furthermore, the RSME values are quite large, about 37.58 for Region 0 and about 40.03 for Region 2."
   ]
  },
  {
   "cell_type": "markdown",
   "metadata": {},
   "source": [
    "I would like to visualize the differences in the distributions between the actual and the predicted values. Boxplots are appropriate to use here. \n",
    "\n",
    "The Region 0 plots are blue, the Region 1 plots are green, and the Region 2 plots are orange, to make it easier to keep track of them."
   ]
  },
  {
   "cell_type": "code",
   "execution_count": 27,
   "metadata": {},
   "outputs": [
    {
     "data": {
      "image/png": "[encoded data removed]",
      "text/plain": [
       "<Figure size 1200x600 with 1 Axes>"
      ]
     },
     "metadata": {},
     "output_type": "display_data"
    }
   ],
   "source": [
    "target_geo_0_valid_df = target_geo_0_valid.to_frame(name = 'product')\n",
    "\n",
    "plt.figure(figsize = (12, 6))\n",
    "sns.boxplot(data = target_geo_0_valid_df, x = 'product', orient = 'h')\n",
    "\n",
    "plt.title('Box Plot of Volume of Actual Reserves in Region 0 Locations')\n",
    "plt.xlabel('Volume of Reserves (In Thousands of Barrels)')\n",
    "plt.xticks([0, 10, 20, 30, 40, 50, 60, 70, 80, 90, 100, 110, 120, 130, 140, 150, 160, 170, 180, 190, 200])\n",
    "plt.ylabel('')\n",
    "plt.show()"
   ]
  },
  {
   "cell_type": "code",
   "execution_count": 28,
   "metadata": {},
   "outputs": [
    {
     "data": {
      "image/png": "[encoded data removed]",
      "text/plain": [
       "<Figure size 1200x600 with 1 Axes>"
      ]
     },
     "metadata": {},
     "output_type": "display_data"
    }
   ],
   "source": [
    "predictions_geo_0_valid_df = predictions_geo_0_valid.to_frame(name = 'product')\n",
    "\n",
    "plt.figure(figsize = (12, 6))\n",
    "sns.boxplot(data = predictions_geo_0_valid_df, x = 'product', orient = 'h')\n",
    "\n",
    "plt.title('Box Plot of Volume of Predicted Reserves in Region 0 Locations')\n",
    "plt.xlabel('Volume of Reserves (In Thousands of Barrels)')\n",
    "plt.xticks([0, 10, 20, 30, 40, 50, 60, 70, 80, 90, 100, 110, 120, 130, 140, 150, 160, 170, 180, 190, 200])\n",
    "plt.ylabel('')\n",
    "plt.show()"
   ]
  },
  {
   "cell_type": "markdown",
   "metadata": {},
   "source": [
    "Interesting! Though the medians are very similar, the predicted spread in the values is ***much*** smaller than the actual spread.\n",
    "\n",
    "In fact, the boxplot of the predicted spread has numerous outliers, whereas in actuality there are no outliers."
   ]
  },
  {
   "cell_type": "code",
   "execution_count": 29,
   "metadata": {},
   "outputs": [
    {
     "data": {
      "image/png": "[encoded data removed]",
      "text/plain": [
       "<Figure size 1200x600 with 1 Axes>"
      ]
     },
     "metadata": {},
     "output_type": "display_data"
    }
   ],
   "source": [
    "target_geo_1_valid_df = target_geo_1_valid.to_frame(name = 'product')\n",
    "\n",
    "plt.figure(figsize = (12, 6))\n",
    "sns.boxplot(data = target_geo_1_valid_df, x = 'product', orient = 'h', color = 'green')\n",
    "\n",
    "plt.title('Box Plot of Volume of Actual Reserves in Region 1 Locations')\n",
    "plt.xlabel('Volume of Reserves (In Thousands of Barrels)')\n",
    "plt.xticks([0, 10, 20, 30, 40, 50, 60, 70, 80, 90, 100, 110, 120, 130, 140, 150, 160, 170, 180, 190, 200])\n",
    "plt.ylabel('')\n",
    "plt.show()"
   ]
  },
  {
   "cell_type": "code",
   "execution_count": 30,
   "metadata": {},
   "outputs": [
    {
     "data": {
      "image/png": "[encoded data removed]",
      "text/plain": [
       "<Figure size 1200x600 with 1 Axes>"
      ]
     },
     "metadata": {},
     "output_type": "display_data"
    }
   ],
   "source": [
    "predictions_geo_1_valid_df = predictions_geo_1_valid.to_frame(name = 'product')\n",
    "\n",
    "plt.figure(figsize = (12, 6))\n",
    "sns.boxplot(data = predictions_geo_1_valid_df, x = 'product', orient = 'h', color = 'green')\n",
    "\n",
    "plt.title('Box Plot of Volume of Predicted Reserves in Region 1 Locations')\n",
    "plt.xlabel('Volume of Reserves (In Thousands of Barrels)')\n",
    "plt.xticks([0, 10, 20, 30, 40, 50, 60, 70, 80, 90, 100, 110, 120, 130, 140, 150, 160, 170, 180, 190, 200])\n",
    "plt.ylabel('')\n",
    "plt.show()"
   ]
  },
  {
   "cell_type": "markdown",
   "metadata": {},
   "source": [
    "As expected, the boxplots for Region 1 are extremely similar."
   ]
  },
  {
   "cell_type": "code",
   "execution_count": 31,
   "metadata": {},
   "outputs": [
    {
     "data": {
      "image/png": "[encoded data removed]",
      "text/plain": [
       "<Figure size 1200x600 with 1 Axes>"
      ]
     },
     "metadata": {},
     "output_type": "display_data"
    }
   ],
   "source": [
    "target_geo_2_valid_df = target_geo_2_valid.to_frame(name = 'product')\n",
    "\n",
    "plt.figure(figsize = (12, 6))\n",
    "sns.boxplot(data = target_geo_2_valid_df, x = 'product', orient = 'h', color = 'orange')\n",
    "\n",
    "plt.title('Box Plot of Volume of Actual Reserves in Region 2 Locations')\n",
    "plt.xlabel('Volume of Reserves (In Thousands of Barrels)')\n",
    "plt.xticks([0, 10, 20, 30, 40, 50, 60, 70, 80, 90, 100, 110, 120, 130, 140, 150, 160, 170, 180, 190, 200])\n",
    "plt.ylabel('')\n",
    "plt.show()"
   ]
  },
  {
   "cell_type": "code",
   "execution_count": 32,
   "metadata": {},
   "outputs": [
    {
     "data": {
      "image/png": "[encoded data removed]",
      "text/plain": [
       "<Figure size 1200x600 with 1 Axes>"
      ]
     },
     "metadata": {},
     "output_type": "display_data"
    }
   ],
   "source": [
    "predictions_geo_2_valid_df = predictions_geo_2_valid.to_frame(name = 'product')\n",
    "\n",
    "plt.figure(figsize = (12, 6))\n",
    "sns.boxplot(data = predictions_geo_2_valid_df, x = 'product', orient = 'h', color = 'orange')\n",
    "\n",
    "plt.title('Box Plot of Volume of Predicted Reserves in Region 2 Locations')\n",
    "plt.xlabel('Volume of Reserves (In Thousands of Barrels)')\n",
    "plt.xticks([0, 10, 20, 30, 40, 50, 60, 70, 80, 90, 100, 110, 120, 130, 140, 150, 160, 170, 180, 190, 200])\n",
    "plt.ylabel('')\n",
    "plt.show()"
   ]
  },
  {
   "cell_type": "markdown",
   "metadata": {},
   "source": [
    "The boxplots of Region 2 are just like those of Region 0 in the sense that the predicted values have a ***much*** smaller spread than the actual values, to the point that the predicted boxplot has numerous outliers despite the actual boxplot not having any."
   ]
  },
  {
   "cell_type": "markdown",
   "metadata": {},
   "source": [
    "I also notice that the boxplots of Regions 0 and 2 suggest that their distributions of volume of reserves are approximately symmetrical, whereas the distributions for Region 1 are right-skewed, as evidenced by how the median is much closer to the 1st quartile value than it is to the 3rd quartile value."
   ]
  },
  {
   "cell_type": "markdown",
   "metadata": {},
   "source": [
    "# Section 3: Preparing For Profit Calculations <a id=4></a>"
   ]
  },
  {
   "cell_type": "markdown",
   "metadata": {},
   "source": [
    "**<u>PART A</u>: Storing All Key Values For Calculations (In Separate Variables)** <a id=4.1></a>"
   ]
  },
  {
   "cell_type": "markdown",
   "metadata": {},
   "source": [
    "**OilyGiant's** total budget for developing 200 wells is 100,000,000 USD. Assuming each well costs the same to develop, the budget for each of the 200 wells is 500,000 USD. The revenue from each unit of product is 4,500 USD. "
   ]
  },
  {
   "cell_type": "code",
   "execution_count": 33,
   "metadata": {},
   "outputs": [],
   "source": [
    "total_budget = 100000000\n",
    "budget_per_well = total_budget/200\n",
    "revenue_per_product = 4500"
   ]
  },
  {
   "cell_type": "markdown",
   "metadata": {},
   "source": [
    "**<u>PART B.1</u>: Calculating the Volume of Reserves Sufficient For Developing a New Well** <a id=4.2></a>"
   ]
  },
  {
   "cell_type": "markdown",
   "metadata": {},
   "source": [
    "In order for a well to be worth developing, it needs to make the company profit. Profit = Revenue – Cost, so I need to figure out how many units of product is the minimum needed so that the total revenue from the oil of a well is greater than the cost of developing the well, which I found earlier to be 500,000 USD. "
   ]
  },
  {
   "cell_type": "code",
   "execution_count": 34,
   "metadata": {},
   "outputs": [
    {
     "name": "stdout",
     "output_type": "stream",
     "text": [
      "(111.111111111111 < min_product_needed) & (min_product_needed < oo)\n"
     ]
    }
   ],
   "source": [
    "min_product_needed = symbols('min_product_needed')\n",
    "solution = solve_univariate_inequality(revenue_per_product*min_product_needed - budget_per_well > 0, min_product_needed)\n",
    "print(solution)"
   ]
  },
  {
   "cell_type": "markdown",
   "metadata": {},
   "source": [
    "Note that 111.111111111111 units of product is equivalent to 111.111111111111*1000 = 111,111.111111111 barrels of oil. \n",
    "\n",
    "Assuming that **OilyGiant** only sells oil in whole barrels, a well would need to have at least 111,112 barrels worth of oil to net a profit.\n",
    "\n",
    "This result is concerning because **Section 2** <u>**Part D**</u> implies that ***on average*** none of the three regions have that amount of product. \n",
    "\n",
    "Fortunately, it is likely that ***some*** locations in each region have at least that amount of product, and I investigate this later in this project. "
   ]
  },
  {
   "cell_type": "markdown",
   "metadata": {},
   "source": [
    "**<u>PART B.2</u>: Comparing the Obtained Values With the Average Volume of Reserves In Each Region** <a id=4.3></a>"
   ]
  },
  {
   "cell_type": "markdown",
   "metadata": {},
   "source": [
    "Recall that in **Section 2** <u>**Part D**</u> I found the average volume of reserves in each region. The average units of product in each region, rounded to the nearest whole number, are 92 for Region 0, 69 for Region 1, and 95 for Region 2. As mentioned in **Section 3** <u>**Part B.1**</u>, it is concerning in none of the three regions is the average location able to net **OilyGiant** a profit. Hopefully at least one region has (at least) 200 locations that each have at least 112 units of product! It is worth noting that since Region 2 has the largest average, it might be the region with the best 200 locations."
   ]
  },
  {
   "cell_type": "markdown",
   "metadata": {},
   "source": [
    "**<u>PART C</u>: Findings Found During the Preparation For the Profit Calculation** <a id=4.4></a>"
   ]
  },
  {
   "cell_type": "markdown",
   "metadata": {},
   "source": [
    "I must stress that while all three regions have potential to be lucrative, Region 1 has, on average, only about 70% to 75% of the volume of oil that Regions 0 and 2 have. This is unfortunate because Region 1's model is the one whose predictions are, by far, the most accurate. When I calculate the profit of the 200 best wells in each region, I will know for sure, but I suspect that Region 1 will ultimately not be selected as the region where **OilyGiant** should develop wells."
   ]
  },
  {
   "cell_type": "markdown",
   "metadata": {},
   "source": [
    "# Section 4: Writing a Function For Calculating Profit <a id=5></a>"
   ]
  },
  {
   "cell_type": "markdown",
   "metadata": {},
   "source": [
    "**<u>PART A</u>: Picking the 500 Locations With the Best Predicted Values** <a id=5.1></a>"
   ]
  },
  {
   "cell_type": "markdown",
   "metadata": {},
   "source": [
    "Let's now sort the **predictions_geo_#_valid** values in descending order, and store the top 500 in new variables."
   ]
  },
  {
   "cell_type": "code",
   "execution_count": 35,
   "metadata": {},
   "outputs": [],
   "source": [
    "geo_0_top_500_predicted = predictions_geo_0_valid.sort_values(ascending = False).head(500)"
   ]
  },
  {
   "cell_type": "code",
   "execution_count": 36,
   "metadata": {},
   "outputs": [],
   "source": [
    "geo_1_top_500_predicted = predictions_geo_1_valid.sort_values(ascending = False).head(500)"
   ]
  },
  {
   "cell_type": "code",
   "execution_count": 37,
   "metadata": {},
   "outputs": [],
   "source": [
    "geo_2_top_500_predicted = predictions_geo_2_valid.sort_values(ascending = False).head(500)"
   ]
  },
  {
   "cell_type": "markdown",
   "metadata": {},
   "source": [
    "**<u>PART B</u>: Summarizing the Target Volume of Reserves** <a id=5.2></a>"
   ]
  },
  {
   "cell_type": "markdown",
   "metadata": {},
   "source": [
    "The **describe()** function is a convenient way to summarize the target volume of reserves in the top 500 best locations (as determined by my model).\n",
    "\n",
    "Ultimately, I will have to pick the best 200 out of the top 500 locations in the region that would be the most profitable. \n",
    "\n",
    "Since 200 is 40% of 500, it is a good idea to have the **describe()** function display the 60th percentile values of each region because from the 60th percentile onward is where the best 200 **product** values are located.\n",
    "\n",
    "Lastly, I also wrote code that displays the total sum of the 500 largest **product** values for each region."
   ]
  },
  {
   "cell_type": "code",
   "execution_count": 38,
   "metadata": {},
   "outputs": [
    {
     "data": {
      "text/plain": [
       "count    500.000000\n",
       "mean     148.367863\n",
       "std        7.324618\n",
       "min      139.907140\n",
       "25%      142.793233\n",
       "50%      146.584313\n",
       "60%      148.328225\n",
       "75%      152.064427\n",
       "max      180.180713\n",
       "dtype: float64"
      ]
     },
     "execution_count": 38,
     "metadata": {},
     "output_type": "execute_result"
    }
   ],
   "source": [
    "geo_0_top_500_predicted.describe(percentiles = [0.25, 0.5, 0.6, 0.75])"
   ]
  },
  {
   "cell_type": "code",
   "execution_count": 39,
   "metadata": {},
   "outputs": [
    {
     "name": "stdout",
     "output_type": "stream",
     "text": [
      "Total predicted units of product in the top 500 locations in Region 0: 74,184\n"
     ]
    }
   ],
   "source": [
    "print('Total predicted units of product in the top 500 locations in Region 0:', \n",
    "      f\"{(round(geo_0_top_500_predicted.sum())):,}\")"
   ]
  },
  {
   "cell_type": "code",
   "execution_count": 40,
   "metadata": {},
   "outputs": [
    {
     "data": {
      "text/plain": [
       "count    500.000000\n",
       "mean     138.392535\n",
       "std        0.343628\n",
       "min      137.977632\n",
       "25%      138.114239\n",
       "50%      138.322828\n",
       "60%      138.410558\n",
       "75%      138.563965\n",
       "max      139.818970\n",
       "dtype: float64"
      ]
     },
     "execution_count": 40,
     "metadata": {},
     "output_type": "execute_result"
    }
   ],
   "source": [
    "geo_1_top_500_predicted.describe(percentiles = [0.25, 0.5, 0.6, 0.75])"
   ]
  },
  {
   "cell_type": "code",
   "execution_count": 41,
   "metadata": {},
   "outputs": [
    {
     "name": "stdout",
     "output_type": "stream",
     "text": [
      "Total predicted units of product in the top 500 locations in Region 1: 69,196\n"
     ]
    }
   ],
   "source": [
    "print('Total predicted units of product in the top 500 locations in Region 1:', \n",
    "      f\"{(round(geo_1_top_500_predicted.sum())):,}\")"
   ]
  },
  {
   "cell_type": "code",
   "execution_count": 42,
   "metadata": {},
   "outputs": [
    {
     "data": {
      "text/plain": [
       "count    500.000000\n",
       "mean     142.325693\n",
       "std        5.947563\n",
       "min      135.591250\n",
       "25%      137.720945\n",
       "50%      140.864113\n",
       "60%      142.405539\n",
       "75%      145.040640\n",
       "max      165.856833\n",
       "dtype: float64"
      ]
     },
     "execution_count": 42,
     "metadata": {},
     "output_type": "execute_result"
    }
   ],
   "source": [
    "geo_2_top_500_predicted.describe(percentiles = [0.25, 0.5, 0.6, 0.75])"
   ]
  },
  {
   "cell_type": "code",
   "execution_count": 43,
   "metadata": {},
   "outputs": [
    {
     "name": "stdout",
     "output_type": "stream",
     "text": [
      "Total predicted units of product in the top 500 locations in Region 2: 71,163\n"
     ]
    }
   ],
   "source": [
    "print('Total predicted units of product in the top 500 locations in Region 2:', \n",
    "      f\"{(round(geo_2_top_500_predicted.sum())):,}\")"
   ]
  },
  {
   "cell_type": "markdown",
   "metadata": {},
   "source": [
    "**<u>PART C.1</u>: Suggesting a Region For Oil Wells Development** <a id=5.3></a>"
   ]
  },
  {
   "cell_type": "markdown",
   "metadata": {},
   "source": [
    "The results of <u>**Part B**</u> strongly imply that Region 0 has the best 200 locations (despite the fact that in **Section 3** Region 2 had the best locations, on average, when looking at 25,000 locations). In addition to Region 0 having the largest 60th percentile, 75th percentile, and max values of the three regions, Region 0 also has the largest min, 25th percentile, 50th percentile (i.e. median), and mean values. \n",
    "\n",
    "This observation implies that region 0 is the most lucrative not only when looking at the best 200 locations, but also when looking at the top 500. Hence, if for some reason a well cannot be developed in a top 200 location, **OilyGiant** would probably be able to find a good replacement somewhere else in the top 500.\n",
    "\n",
    "Furthermore, Region 0 has the largest total sum of **product** values of the three regions, when looking at the top 500. I would think that it would also have the largest total sum for the best 200, but let's find out for sure!"
   ]
  },
  {
   "cell_type": "code",
   "execution_count": 44,
   "metadata": {},
   "outputs": [
    {
     "name": "stdout",
     "output_type": "stream",
     "text": [
      "Total predicted units of product in the top 200 locations in Region 0: 31,102\n"
     ]
    }
   ],
   "source": [
    "print('Total predicted units of product in the top 200 locations in Region 0:', \n",
    "      f\"{(round(geo_0_top_500_predicted.head(200).sum())):,}\")"
   ]
  },
  {
   "cell_type": "code",
   "execution_count": 45,
   "metadata": {},
   "outputs": [
    {
     "name": "stdout",
     "output_type": "stream",
     "text": [
      "Total predicted units of product in the top 200 locations in Region 1: 27,746\n"
     ]
    }
   ],
   "source": [
    "print('Total predicted units of product in the top 200 locations in Region 1:', \n",
    "      f\"{(round(geo_1_top_500_predicted.head(200).sum())):,}\")"
   ]
  },
  {
   "cell_type": "code",
   "execution_count": 46,
   "metadata": {},
   "outputs": [
    {
     "name": "stdout",
     "output_type": "stream",
     "text": [
      "Total predicted units of product in the top 200 locations in Region 2: 29,604\n"
     ]
    }
   ],
   "source": [
    "print('Total predicted units of product in the top 200 locations in Region 2:', \n",
    "      f\"{(round(geo_2_top_500_predicted.head(200).sum())):,}\")"
   ]
  },
  {
   "cell_type": "markdown",
   "metadata": {},
   "source": [
    "Region 0 is indeed the one with the most total volume of oil in its best 200 locations!"
   ]
  },
  {
   "cell_type": "markdown",
   "metadata": {},
   "source": [
    "**<u>PART C.2</u>: Calculating the Profit For the Obtained Volume of Reserves (Based On the Best 200 Locations)** <a id=5.4></a>"
   ]
  },
  {
   "cell_type": "markdown",
   "metadata": {},
   "source": [
    "Let's now define a function that will calculate the profit of the top 200 locations in a set of 500 locations.\n",
    "\n",
    "The function takes the target product values, the predicted product values, the revenue per unit of product, and the budget per well as arguments. \n",
    "\n",
    "(Recall that I defined the variables **revenue_per_barrel** and **budget_per_well** in Section 3.)\n",
    "\n",
    "It sorts the locations by predicted product values in descending order, takes the top 200 locations, and finally takes the corresponding target product values and calculates profit. By using the dataframe that is returned, I can easy do useful calculations, such as find the mean, median, sum, etc."
   ]
  },
  {
   "cell_type": "code",
   "execution_count": 47,
   "metadata": {},
   "outputs": [],
   "source": [
    "def profit(target_values, predicted_values, revenue_per_product, budget_per_well):\n",
    "    locations = pd.DataFrame({'target_values': target_values, 'predicted_values': predicted_values})\n",
    "    locations_200_top = locations.sort_values(by = 'predicted_values', ascending = False).head(200)\n",
    "    locations_200_top['profit'] = locations_200_top['target_values'] * revenue_per_product - budget_per_well\n",
    "    return locations_200_top['profit']"
   ]
  },
  {
   "cell_type": "markdown",
   "metadata": {},
   "source": [
    "I am curious to see the summary statistics regarding the expected profit values. Note that all of the values in this part are in USD."
   ]
  },
  {
   "cell_type": "code",
   "execution_count": 48,
   "metadata": {},
   "outputs": [
    {
     "data": {
      "text/plain": [
       "count       200.000000\n",
       "mean     166041.302157\n",
       "std      113885.689521\n",
       "min     -310584.586913\n",
       "25%      101351.695548\n",
       "50%      183576.434208\n",
       "75%      252635.177366\n",
       "max      329604.049145\n",
       "Name: profit, dtype: float64"
      ]
     },
     "execution_count": 48,
     "metadata": {},
     "output_type": "execute_result"
    }
   ],
   "source": [
    "profit(target_geo_0_valid.reset_index(drop = True), predictions_geo_0_valid, revenue_per_product, budget_per_well).describe()"
   ]
  },
  {
   "cell_type": "markdown",
   "metadata": {},
   "source": [
    "Lastly, let's see what my function predicts the total profit of the top 200 locations to be."
   ]
  },
  {
   "cell_type": "code",
   "execution_count": 49,
   "metadata": {},
   "outputs": [
    {
     "name": "stdout",
     "output_type": "stream",
     "text": [
      "Total expected profit, in USD, of the top 200 locations in Region 0: 33,208,260\n"
     ]
    }
   ],
   "source": [
    "geo_0_top_200_expected_profit = profit(target_geo_0_valid.reset_index(drop = True), \n",
    "                                       predictions_geo_0_valid, revenue_per_product, budget_per_well).sum()\n",
    "\n",
    "print('Total expected profit, in USD, of the top 200 locations in Region 0:', f\"{round(geo_0_top_200_expected_profit):,}\")"
   ]
  },
  {
   "cell_type": "markdown",
   "metadata": {},
   "source": [
    "# Section 5: Calculating Risks and Profits For Each Region <a id=6></a>"
   ]
  },
  {
   "cell_type": "markdown",
   "metadata": {},
   "source": [
    "**<u>PART A</u>: Using the Bootstrapping Technique (With 1,000 Samples) to Find the Distribution of Profit** <a id=6.1></a>"
   ]
  },
  {
   "cell_type": "markdown",
   "metadata": {},
   "source": [
    "In this section I use bootstrapping to find 1000 samples of the profit values in 200 locations in the region.\n",
    "\n",
    "On the next line I reset the indices of each **target_geo_X_valid** to make sure that they match those of the corresponding **predictions_geo_X_valid**."
   ]
  },
  {
   "cell_type": "code",
   "execution_count": 50,
   "metadata": {},
   "outputs": [],
   "source": [
    "target_geo_0_valid = target_geo_0_valid.reset_index(drop = True)\n",
    "target_geo_1_valid = target_geo_1_valid.reset_index(drop = True)\n",
    "target_geo_2_valid = target_geo_2_valid.reset_index(drop = True)"
   ]
  },
  {
   "cell_type": "code",
   "execution_count": 51,
   "metadata": {},
   "outputs": [],
   "source": [
    "geo_0_first_state = np.random.RandomState(12345)\n",
    "\n",
    "geo_0_bootstrapped_profit_values = pd.DataFrame(index = range(200), columns = range(1000))\n",
    "    \n",
    "for i in range(1000):\n",
    "    subsample = target_geo_0_valid.sample(n = 500, replace = True, random_state = geo_0_first_state)\n",
    "    target_values = subsample.values\n",
    "    predicted_values = predictions_geo_0_valid.loc[subsample.index].values\n",
    "    profit_values = profit(target_values, predicted_values, revenue_per_product, budget_per_well)\n",
    "    geo_0_bootstrapped_profit_values[i] = profit_values.reset_index(drop = True)"
   ]
  },
  {
   "cell_type": "markdown",
   "metadata": {},
   "source": [
    "Now I am curious to know, what is the distribution of how much money, in USD, would be made in profit if all 200 locations in a sample had the total sum of their oil sold? The boxplot on the next line shows this distribution. To reiterate, each distinct value in the following boxplot comes from adding together all 200 profit values in a particular column of the **geo_0_bootstrapped_profit_values** dataframe. Since each total profit value is so large, I deliberately divide them all by 1,000,000 meaning each number on the horizontal axis is in **MILLIONS** of USD. "
   ]
  },
  {
   "cell_type": "code",
   "execution_count": 52,
   "metadata": {},
   "outputs": [
    {
     "data": {
      "image/png": "[encoded data removed]",
      "text/plain": [
       "<Figure size 1200x600 with 1 Axes>"
      ]
     },
     "metadata": {},
     "output_type": "display_data"
    }
   ],
   "source": [
    "plt.figure(figsize = (12, 6))\n",
    "sns.boxplot(data = geo_0_bootstrapped_profit_values.sum(axis = 0)/1000000, orient = 'h')\n",
    "\n",
    "plt.title('Distribution of Would Be Total Profits (In Millions of USD) of 200 Region 0 Wells, Based On 1000 Samples')\n",
    "plt.xlabel('Total Profit (In Millions of USD)')\n",
    "plt.xticks([-4, -3, -2, -1, 0, 1, 2, 3, 4, 5, 6, 7, 8, 9, 10, 11, 12, 13, 14])\n",
    "plt.yticks([])\n",
    "plt.show()"
   ]
  },
  {
   "cell_type": "markdown",
   "metadata": {},
   "source": [
    "So that I know the values of some of the summary statistics, such as the 25th, 50th, 60th, and 75th percentiles, I use the **describe()** function."
   ]
  },
  {
   "cell_type": "code",
   "execution_count": 53,
   "metadata": {},
   "outputs": [
    {
     "data": {
      "text/plain": [
       "count    1000.000000\n",
       "mean        3.961650\n",
       "std         2.666143\n",
       "min        -3.695671\n",
       "25%         2.139204\n",
       "50%         3.950089\n",
       "75%         5.793003\n",
       "max        13.492669\n",
       "dtype: float64"
      ]
     },
     "execution_count": 53,
     "metadata": {},
     "output_type": "execute_result"
    }
   ],
   "source": [
    "geo_0_bootstrapped_profit_values_millions = geo_0_bootstrapped_profit_values/1000000\n",
    "geo_0_bootstrapped_profit_values_millions.sum(axis = 0).describe()"
   ]
  },
  {
   "cell_type": "markdown",
   "metadata": {},
   "source": [
    "Now let's repeat the above process with Regions 1 and 2."
   ]
  },
  {
   "cell_type": "code",
   "execution_count": 54,
   "metadata": {},
   "outputs": [],
   "source": [
    "geo_1_first_state = np.random.RandomState(12345)\n",
    "\n",
    "geo_1_bootstrapped_profit_values = pd.DataFrame(index = range(200), columns = range(1000))\n",
    "    \n",
    "for j in range(1000):\n",
    "    subsample = target_geo_1_valid.sample(n = 500, replace = True, random_state = geo_1_first_state)\n",
    "    target_values = subsample.values\n",
    "    predicted_values = predictions_geo_1_valid.loc[subsample.index].values\n",
    "    profit_values = profit(target_values, predicted_values, revenue_per_product, budget_per_well)\n",
    "    geo_1_bootstrapped_profit_values[j] = profit_values.reset_index(drop = True)"
   ]
  },
  {
   "cell_type": "code",
   "execution_count": 55,
   "metadata": {},
   "outputs": [
    {
     "data": {
      "image/png": "[encoded data removed]",
      "text/plain": [
       "<Figure size 1200x600 with 1 Axes>"
      ]
     },
     "metadata": {},
     "output_type": "display_data"
    }
   ],
   "source": [
    "plt.figure(figsize = (12, 6))\n",
    "sns.boxplot(data = geo_1_bootstrapped_profit_values.sum(axis = 0)/1000000, orient = 'h')\n",
    "\n",
    "plt.title('Distribution of Would Be Total Profits (In Millions of USD) of 200 Region 1 Wells, Based On 1000 Samples')\n",
    "plt.xlabel('Total Profit (In Millions of USD)')\n",
    "plt.xticks([-2, -1, 0, 1, 2, 3, 4, 5, 6, 7, 8, 9, 10, 11, 12])\n",
    "plt.yticks([])\n",
    "plt.show()"
   ]
  },
  {
   "cell_type": "code",
   "execution_count": 56,
   "metadata": {},
   "outputs": [
    {
     "data": {
      "text/plain": [
       "count    1000.000000\n",
       "mean        4.560451\n",
       "std         2.078466\n",
       "min        -1.922681\n",
       "25%         3.250479\n",
       "50%         4.570359\n",
       "75%         5.989760\n",
       "max        11.540473\n",
       "dtype: float64"
      ]
     },
     "execution_count": 56,
     "metadata": {},
     "output_type": "execute_result"
    }
   ],
   "source": [
    "geo_1_bootstrapped_profit_values_millions = geo_1_bootstrapped_profit_values/1000000\n",
    "geo_1_bootstrapped_profit_values_millions.sum(axis = 0).describe()"
   ]
  },
  {
   "cell_type": "code",
   "execution_count": 57,
   "metadata": {},
   "outputs": [],
   "source": [
    "geo_2_first_state = np.random.RandomState(12345)\n",
    "\n",
    "geo_2_bootstrapped_profit_values = pd.DataFrame(index = range(200), columns = range(1000))\n",
    "    \n",
    "for k in range(1000):\n",
    "    subsample = target_geo_2_valid.sample(n = 500, replace = True, random_state = geo_2_first_state)\n",
    "    target_values = subsample.values\n",
    "    predicted_values = predictions_geo_2_valid.loc[subsample.index].values\n",
    "    profit_values = profit(target_values, predicted_values, revenue_per_product, budget_per_well)\n",
    "    geo_2_bootstrapped_profit_values[k] = profit_values.reset_index(drop = True)"
   ]
  },
  {
   "cell_type": "code",
   "execution_count": 58,
   "metadata": {},
   "outputs": [
    {
     "data": {
      "image/png": "[encoded data removed]",
      "text/plain": [
       "<Figure size 1200x600 with 1 Axes>"
      ]
     },
     "metadata": {},
     "output_type": "display_data"
    }
   ],
   "source": [
    "plt.figure(figsize = (12, 6))\n",
    "sns.boxplot(data = geo_2_bootstrapped_profit_values.sum(axis = 0)/1000000, orient = 'h')\n",
    "\n",
    "plt.title('Distribution of Would Be Total Profits (In Millions of USD) of 200 Region 2 Wells, Based On 1000 Samples')\n",
    "plt.xlabel('Total Profit (In Millions of USD)')\n",
    "plt.xticks([-5, -4, -3, -2, -1, 0, 1, 2, 3, 4, 5, 6, 7, 8, 9, 10, 11, 12, 13])\n",
    "plt.yticks([])\n",
    "plt.show()"
   ]
  },
  {
   "cell_type": "code",
   "execution_count": 59,
   "metadata": {},
   "outputs": [
    {
     "data": {
      "text/plain": [
       "count    1000.000000\n",
       "mean        4.044039\n",
       "std         2.732762\n",
       "min        -4.178570\n",
       "25%         2.281472\n",
       "50%         4.072058\n",
       "75%         6.019454\n",
       "max        13.305932\n",
       "dtype: float64"
      ]
     },
     "execution_count": 59,
     "metadata": {},
     "output_type": "execute_result"
    }
   ],
   "source": [
    "geo_2_bootstrapped_profit_values_millions = geo_2_bootstrapped_profit_values/1000000\n",
    "geo_2_bootstrapped_profit_values_millions.sum(axis = 0).describe()"
   ]
  },
  {
   "cell_type": "markdown",
   "metadata": {},
   "source": [
    "Fascinating! On the one hand, one can argue that Region 1 is the best choice because its \"typical\" profit values, namely the mean and median, are larger than those of Regions 0 and 2. That said, it can be argued that either Region 0 or 2 is better than Region 1 because the largest profit values of Region 0 and 2 are larger than the largest profit values of Region 1, as evidenced by how Region 1's right side whisker does not stretch out as far as those of Region 0 and 2. More investigating is needed before I make any conclusions about which region is the best one."
   ]
  },
  {
   "cell_type": "markdown",
   "metadata": {},
   "source": [
    "**<u>PART B.1</u>: Calculating the Average Profit Using a 95% Confidence Interval** <a id=6.2></a>"
   ]
  },
  {
   "cell_type": "markdown",
   "metadata": {},
   "source": [
    "Since I am using a 95% confidence interval, that means the 2.5th percentile value is the lower bound, whereas the 97.5th percentile value is the upper bound."
   ]
  },
  {
   "cell_type": "code",
   "execution_count": 60,
   "metadata": {},
   "outputs": [
    {
     "name": "stdout",
     "output_type": "stream",
     "text": [
      "I am 95% confident that the average profit OilyGiant would make per 200 wells in Region 0 is between...\n",
      "-1,112,155.46 and 9,097,669.42 USD\n"
     ]
    }
   ],
   "source": [
    "geo_0_avg_profit_95_lower = geo_0_bootstrapped_profit_values.sum(axis = 0).quantile(0.025)\n",
    "geo_0_avg_profit_95_upper = geo_0_bootstrapped_profit_values.sum(axis = 0).quantile(0.975)\n",
    "\n",
    "print('I am 95% confident that the average profit OilyGiant would make per 200 wells in Region 0 is between...')\n",
    "print(f\"{round(geo_0_avg_profit_95_lower, 2):,}\", 'and', f\"{round(geo_0_avg_profit_95_upper, 2):,}\", 'USD')"
   ]
  },
  {
   "cell_type": "code",
   "execution_count": 61,
   "metadata": {},
   "outputs": [
    {
     "name": "stdout",
     "output_type": "stream",
     "text": [
      "I am 95% confident that the average profit OilyGiant would make per 200 wells in Region 1 is between...\n",
      "338,205.09 and 8,522,894.54 USD\n"
     ]
    }
   ],
   "source": [
    "geo_1_avg_profit_95_lower = geo_1_bootstrapped_profit_values.sum(axis = 0).quantile(0.025)\n",
    "geo_1_avg_profit_95_upper = geo_1_bootstrapped_profit_values.sum(axis = 0).quantile(0.975)\n",
    "\n",
    "print('I am 95% confident that the average profit OilyGiant would make per 200 wells in Region 1 is between...')\n",
    "print(f\"{round(geo_1_avg_profit_95_lower, 2):,}\", 'and', f\"{round(geo_1_avg_profit_95_upper, 2):,}\", 'USD')"
   ]
  },
  {
   "cell_type": "code",
   "execution_count": 62,
   "metadata": {},
   "outputs": [
    {
     "name": "stdout",
     "output_type": "stream",
     "text": [
      "I am 95% confident that the average profit OilyGiant would make per 200 wells in Region 2 is between...\n",
      "-1,633,504.13 and 9,503,595.75 USD\n"
     ]
    }
   ],
   "source": [
    "geo_2_avg_profit_95_lower = geo_2_bootstrapped_profit_values.sum(axis = 0).quantile(0.025)\n",
    "geo_2_avg_profit_95_upper = geo_2_bootstrapped_profit_values.sum(axis = 0).quantile(0.975)\n",
    "\n",
    "print('I am 95% confident that the average profit OilyGiant would make per 200 wells in Region 2 is between...')\n",
    "print(f\"{round(geo_2_avg_profit_95_lower, 2):,}\", 'and', f\"{round(geo_2_avg_profit_95_upper, 2):,}\", 'USD')"
   ]
  },
  {
   "cell_type": "markdown",
   "metadata": {},
   "source": [
    "Notice that Region 1 is the only region whose range of values are all positive, even the 2.5th percentile value! \n",
    "\n",
    "This implies that even though Region 1 does not have the largest possible profit value, it is the \"safest\" choice of the three regions because at least there is close to a 100% guarantee of making profit in Region 1. "
   ]
  },
  {
   "cell_type": "markdown",
   "metadata": {},
   "source": [
    "**<u>PART B.2</u>: Also Calculating the Risk of Losses (i.e. Negative Profit)** <a id=6.3></a>"
   ]
  },
  {
   "cell_type": "markdown",
   "metadata": {},
   "source": [
    "In this context, calculating the risk of losses is synonymous with finding the percentage of sets of 200 locations in the region that would yield a negative profit. \n",
    "\n",
    "Recall that no region with a risk of losses that is at least 2.5% should even be considered."
   ]
  },
  {
   "cell_type": "code",
   "execution_count": 63,
   "metadata": {},
   "outputs": [
    {
     "name": "stdout",
     "output_type": "stream",
     "text": [
      "The risk of losses, i.e. the percentage of bootstrap iterations that would yield a negative profit, in Region 0 is:\n",
      "6.9 %\n"
     ]
    }
   ],
   "source": [
    "geo_0_neg_profit_boolean = geo_0_bootstrapped_profit_values.sum(axis = 0).lt(0)\n",
    "geo_0_neg_profit_percentage = geo_0_neg_profit_boolean.sum(axis = 0) / geo_0_bootstrapped_profit_values.shape[1] * 100\n",
    "\n",
    "print('The risk of losses, i.e. the percentage of bootstrap iterations that would yield a negative profit, in Region 0 is:')\n",
    "print(round(geo_0_neg_profit_percentage, 1), '%')"
   ]
  },
  {
   "cell_type": "markdown",
   "metadata": {},
   "source": [
    "How unfortunate! Back in Section 4, I suspected that Region 0 might be the best region because it has the most profitable top 200 locations. Unfortunately, Region 0 is simply too risky to even be worth considering. It is likely that despite having some ***very*** profitable locations, Region 0 also suffers from having too many unprofitable locations."
   ]
  },
  {
   "cell_type": "code",
   "execution_count": 64,
   "metadata": {},
   "outputs": [
    {
     "name": "stdout",
     "output_type": "stream",
     "text": [
      "The risk of losses in Region 1 is: 1.5 %\n"
     ]
    }
   ],
   "source": [
    "geo_1_neg_profit_boolean = geo_1_bootstrapped_profit_values.sum(axis = 0).lt(0)\n",
    "geo_1_neg_profit_percentage = geo_1_neg_profit_boolean.sum(axis = 0) / geo_1_bootstrapped_profit_values.shape[1] * 100\n",
    "\n",
    "print('The risk of losses in Region 1 is:', round(geo_1_neg_profit_percentage, 1), '%')"
   ]
  },
  {
   "cell_type": "markdown",
   "metadata": {},
   "source": [
    "Great! Region 1 still qualifies for consideration!"
   ]
  },
  {
   "cell_type": "code",
   "execution_count": 65,
   "metadata": {},
   "outputs": [
    {
     "name": "stdout",
     "output_type": "stream",
     "text": [
      "The risk of losses in Region 2 is: 7.6 %\n"
     ]
    }
   ],
   "source": [
    "geo_2_neg_profit_boolean = geo_2_bootstrapped_profit_values.sum(axis = 0).lt(0)\n",
    "geo_2_neg_profit_percentage = geo_2_neg_profit_boolean.sum(axis = 0) / geo_2_bootstrapped_profit_values.shape[1] * 100\n",
    "\n",
    "print('The risk of losses in Region 2 is:', round(geo_2_neg_profit_percentage, 1), '%')"
   ]
  },
  {
   "cell_type": "markdown",
   "metadata": {},
   "source": [
    "Unfortunately, Region 2 is even riskier than Region 0, despite the fact that earlier in the project I found that Region 2 has the largest average **target_geo_2_valid** and **predictions_geo_2_valid values**. This suggests to me that (just like Region 0) Region 2 has too many locations that are unprofitable, to the point that the best locations cannot compensate."
   ]
  },
  {
   "cell_type": "markdown",
   "metadata": {},
   "source": [
    "**<u>PART C</u>: Suggesting a Region for Development of Oil Wells** <a id=6.4></a>"
   ]
  },
  {
   "cell_type": "markdown",
   "metadata": {},
   "source": [
    "Due to how risky it would be to develop wells in Region 0 or Region 2, I have no choice but to suggest Region 1."
   ]
  },
  {
   "cell_type": "markdown",
   "metadata": {},
   "source": [
    "# Conclusion <a id=7></a>"
   ]
  },
  {
   "cell_type": "markdown",
   "metadata": {},
   "source": [
    "My analysis, which includes using a linear regression model and bootstrapping, has brought me to the conclusion that **OilyGiant** stakeholders should use their budget of 100,000,000 USD to develop 200 wells in Region 1. \n",
    "\n",
    "Thanks to my use of bootstrapping, I came to the conclusion that the risk of losses in Region 1 is only 1.5%, meaning it is ***very*** unlikely that **OilyGiant** would lose money by picking the top 200 locations in a random sample of 500 locations in Region 1. In contrast, Regions 0 and 2 are not even worth considering because their risk of losses are 6.9% and 7.6%, respectively.\n",
    "\n",
    "It is worth mentioning that **Section 4** of my analysis seems to suggest that Regions 0 and 2 are actually better than Region 1, since the total volume of oil in the apparent top 200 locations in Regions 0 and 2 are more than that of Region 1 (31,102 units of product in Region 0 and 29,604 units in Region 2, compared to \"only\" 27,746 units in Region 1). However, in addition to the high risk of losses in Regions 0 and 2, I am convinced that these results are not accurate enough to be used to decide where the 200 wells should be developed. \n",
    "\n",
    "Two reasons why I am skeptical of the accuracy of the results mentioned in the previous paragraph are as follows:\n",
    "\n",
    "1) The RMSE value for Region 0's model is 37.58, which implies there are major discrepancies between many of the actual versus predicted **product** values. If that's not bad enough, the RMSE value is even larger for Region 2, 40.03. Thankfully, the RMSE value for Region 1's model is merely 0.89, which further supports my decision to suggest that region.\n",
    "\n",
    "2) The models for Regions 0 and 2 do a bad job of approximating the standard deviations of the **product** values. The standard deviation of the volume of actual reserves in Region 0 is 44.29, whereas the model has a standard deviation of 23.18. As for Region 2, the actual and predicted standard deviation values are 44.9 and 19.85, respectively. Hence, the distributions of the predicted **product** values are much tighter than those of the actual values, meaning the model fails to accurately reflect how extreme the outliers, most notably the low outliers, of Regions 0 and 2 are. Thankfully, the actual and predicted standard deviation values for Region 1 are 46.02 and 46.01, respectively, which further suggests that Region 1's model is very accurate.\n",
    "\n",
    "Even if the models for Regions 0 and 2 did not have the above two issues, I still would not recommend either region because it is extremely unlikely that a random sample of 500 locations, from which the best 200 are selected, would contain the 200 most profitable locations mentioned in the third paragraph. \n",
    "\n",
    "In short, Region 1 is, by far, the most reliable region to develop oil wells in."
   ]
  }
 ],
 "metadata": {
  "kernelspec": {
   "display_name": "Python 3 (ipykernel)",
   "language": "python",
   "name": "python3"
  },
  "language_info": {
   "codemirror_mode": {
    "name": "ipython",
    "version": 3
   },
   "file_extension": ".py",
   "mimetype": "text/x-python",
   "name": "python",
   "nbconvert_exporter": "python",
   "pygments_lexer": "ipython3",
   "version": "3.11.9"
  },
  "toc": {
   "base_numbering": "1",
   "nav_menu": {},
   "number_sections": true,
   "sideBar": true,
   "skip_h1_title": true,
   "title_cell": "Table of Contents",
   "title_sidebar": "Contents",
   "toc_cell": false,
   "toc_position": {
    "height": "calc(100% - 180px)",
    "left": "10px",
    "top": "150px",
    "width": "314.667px"
   },
   "toc_section_display": true,
   "toc_window_display": false
  }
 },
 "nbformat": 4,
 "nbformat_minor": 2
}
